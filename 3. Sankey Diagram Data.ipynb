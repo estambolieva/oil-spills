{
 "cells": [
  {
   "cell_type": "code",
   "execution_count": 1,
   "metadata": {
    "collapsed": true
   },
   "outputs": [],
   "source": [
    "import pandas as pd"
   ]
  },
  {
   "cell_type": "code",
   "execution_count": 5,
   "metadata": {
    "collapsed": false
   },
   "outputs": [
    {
     "name": "stderr",
     "output_type": "stream",
     "text": [
      "/home/katia/.virtualenvs/securaxis/lib/python3.5/site-packages/ipykernel/__main__.py:1: ParserWarning: Falling back to the 'python' engine because the separator encoded in utf-8 is > 1 char long, and the 'c' engine does not support such separators; you can avoid this warning by specifying engine='python'.\n",
      "  if __name__ == '__main__':\n"
     ]
    }
   ],
   "source": [
    "df = pd.read_csv(\"./data/EniShell_transformed.csv\", sep=\"¬\")\n",
    "del df[\"Unnamed: 0\"]"
   ]
  },
  {
   "cell_type": "code",
   "execution_count": 22,
   "metadata": {
    "collapsed": false
   },
   "outputs": [
    {
     "data": {
      "text/html": [
       "<div>\n",
       "<table border=\"1\" class=\"dataframe\">\n",
       "  <thead>\n",
       "    <tr style=\"text-align: right;\">\n",
       "      <th></th>\n",
       "      <th>cause_mapped</th>\n",
       "      <th>cause_amnesty</th>\n",
       "      <th>cause</th>\n",
       "    </tr>\n",
       "  </thead>\n",
       "  <tbody>\n",
       "    <tr>\n",
       "      <th>0</th>\n",
       "      <td>sabotage/theft</td>\n",
       "      <td>Third party (undetermined)</td>\n",
       "      <td>Use of explosive</td>\n",
       "    </tr>\n",
       "    <tr>\n",
       "      <th>1</th>\n",
       "      <td>sabotage/theft</td>\n",
       "      <td>Third party (theft)</td>\n",
       "      <td>Sabotage/ Theft</td>\n",
       "    </tr>\n",
       "    <tr>\n",
       "      <th>2</th>\n",
       "      <td>sabotage/theft</td>\n",
       "      <td>Undetermined</td>\n",
       "      <td>Sabotage</td>\n",
       "    </tr>\n",
       "    <tr>\n",
       "      <th>3</th>\n",
       "      <td>sabotage/theft</td>\n",
       "      <td>Third party (theft)</td>\n",
       "      <td>Sabotage</td>\n",
       "    </tr>\n",
       "    <tr>\n",
       "      <th>4</th>\n",
       "      <td>sabotage/theft</td>\n",
       "      <td>Third party (undetermined)</td>\n",
       "      <td>Sabotage</td>\n",
       "    </tr>\n",
       "  </tbody>\n",
       "</table>\n",
       "</div>"
      ],
      "text/plain": [
       "     cause_mapped               cause_amnesty             cause\n",
       "0  sabotage/theft  Third party (undetermined)  Use of explosive\n",
       "1  sabotage/theft         Third party (theft)   Sabotage/ Theft\n",
       "2  sabotage/theft                Undetermined          Sabotage\n",
       "3  sabotage/theft         Third party (theft)          Sabotage\n",
       "4  sabotage/theft  Third party (undetermined)          Sabotage"
      ]
     },
     "execution_count": 22,
     "metadata": {},
     "output_type": "execute_result"
    }
   ],
   "source": [
    "df[[\"cause_mapped\", \"cause_amnesty\", \"cause\"]].head()"
   ]
  },
  {
   "cell_type": "markdown",
   "metadata": {},
   "source": [
    "#### map \"Hacksaw cut & fire\" and \"Hacksaw cut & explosive\" to \"Hacksaw cut\""
   ]
  },
  {
   "cell_type": "code",
   "execution_count": 28,
   "metadata": {
    "collapsed": false
   },
   "outputs": [
    {
     "name": "stderr",
     "output_type": "stream",
     "text": [
      "/home/katia/.virtualenvs/securaxis/lib/python3.5/site-packages/ipykernel/__main__.py:1: SettingWithCopyWarning: \n",
      "A value is trying to be set on a copy of a slice from a DataFrame\n",
      "\n",
      "See the caveats in the documentation: http://pandas.pydata.org/pandas-docs/stable/indexing.html#indexing-view-versus-copy\n",
      "  if __name__ == '__main__':\n",
      "/home/katia/.virtualenvs/securaxis/lib/python3.5/site-packages/ipykernel/__main__.py:2: SettingWithCopyWarning: \n",
      "A value is trying to be set on a copy of a slice from a DataFrame\n",
      "\n",
      "See the caveats in the documentation: http://pandas.pydata.org/pandas-docs/stable/indexing.html#indexing-view-versus-copy\n",
      "  from ipykernel import kernelapp as app\n"
     ]
    }
   ],
   "source": [
    "df.cause[df.cause == \"Hacksaw cut & explosive\"] = \"Hacksaw cut\"\n",
    "df.cause[df.cause == \"Hacksaw cut & fire\"] = \"Hacksaw cut\""
   ]
  },
  {
   "cell_type": "code",
   "execution_count": 29,
   "metadata": {
    "collapsed": false
   },
   "outputs": [
    {
     "data": {
      "text/plain": [
       "111"
      ]
     },
     "execution_count": 29,
     "metadata": {},
     "output_type": "execute_result"
    }
   ],
   "source": [
    "df.cause[df.cause == \"Hacksaw cut\"].shape[0]"
   ]
  },
  {
   "cell_type": "markdown",
   "metadata": {},
   "source": [
    "#### map oil spill causes of small count to \"Other\""
   ]
  },
  {
   "cell_type": "code",
   "execution_count": 19,
   "metadata": {
    "collapsed": false
   },
   "outputs": [
    {
     "data": {
      "text/plain": [
       "Sabotage                       470\n",
       "Oil theft                      409\n",
       "Sabotage/ Theft                227\n",
       "Operational                    164\n",
       "Hacksaw cut                    106\n",
       "Equipment failure               61\n",
       "Vandalization                   44\n",
       "Use of explosive                41\n",
       "Drilled hole                    24\n",
       "Corrosion                       16\n",
       "Other                            5\n",
       "Hacksaw cut & explosive          4\n",
       "Induced corrosion                4\n",
       "Mystery Spill                    3\n",
       "Structure failure                2\n",
       "Operational error                2\n",
       "Operational error/Oil theft      1\n",
       "Road Traffic Accident            1\n",
       "Hacksaw cut & fire               1\n",
       "Unknown                          1\n",
       "Name: cause, dtype: int64"
      ]
     },
     "execution_count": 19,
     "metadata": {},
     "output_type": "execute_result"
    }
   ],
   "source": [
    "df.cause.value_counts()"
   ]
  },
  {
   "cell_type": "code",
   "execution_count": 32,
   "metadata": {
    "collapsed": false
   },
   "outputs": [
    {
     "name": "stderr",
     "output_type": "stream",
     "text": [
      "/home/katia/.virtualenvs/securaxis/lib/python3.5/site-packages/ipykernel/__main__.py:1: SettingWithCopyWarning: \n",
      "A value is trying to be set on a copy of a slice from a DataFrame\n",
      "\n",
      "See the caveats in the documentation: http://pandas.pydata.org/pandas-docs/stable/indexing.html#indexing-view-versus-copy\n",
      "  if __name__ == '__main__':\n",
      "/home/katia/.virtualenvs/securaxis/lib/python3.5/site-packages/ipykernel/__main__.py:2: SettingWithCopyWarning: \n",
      "A value is trying to be set on a copy of a slice from a DataFrame\n",
      "\n",
      "See the caveats in the documentation: http://pandas.pydata.org/pandas-docs/stable/indexing.html#indexing-view-versus-copy\n",
      "  from ipykernel import kernelapp as app\n",
      "/home/katia/.virtualenvs/securaxis/lib/python3.5/site-packages/ipykernel/__main__.py:3: SettingWithCopyWarning: \n",
      "A value is trying to be set on a copy of a slice from a DataFrame\n",
      "\n",
      "See the caveats in the documentation: http://pandas.pydata.org/pandas-docs/stable/indexing.html#indexing-view-versus-copy\n",
      "  app.launch_new_instance()\n",
      "/home/katia/.virtualenvs/securaxis/lib/python3.5/site-packages/ipykernel/__main__.py:4: SettingWithCopyWarning: \n",
      "A value is trying to be set on a copy of a slice from a DataFrame\n",
      "\n",
      "See the caveats in the documentation: http://pandas.pydata.org/pandas-docs/stable/indexing.html#indexing-view-versus-copy\n",
      "/home/katia/.virtualenvs/securaxis/lib/python3.5/site-packages/ipykernel/__main__.py:5: SettingWithCopyWarning: \n",
      "A value is trying to be set on a copy of a slice from a DataFrame\n",
      "\n",
      "See the caveats in the documentation: http://pandas.pydata.org/pandas-docs/stable/indexing.html#indexing-view-versus-copy\n",
      "/home/katia/.virtualenvs/securaxis/lib/python3.5/site-packages/ipykernel/__main__.py:6: SettingWithCopyWarning: \n",
      "A value is trying to be set on a copy of a slice from a DataFrame\n",
      "\n",
      "See the caveats in the documentation: http://pandas.pydata.org/pandas-docs/stable/indexing.html#indexing-view-versus-copy\n",
      "/home/katia/.virtualenvs/securaxis/lib/python3.5/site-packages/ipykernel/__main__.py:7: SettingWithCopyWarning: \n",
      "A value is trying to be set on a copy of a slice from a DataFrame\n",
      "\n",
      "See the caveats in the documentation: http://pandas.pydata.org/pandas-docs/stable/indexing.html#indexing-view-versus-copy\n",
      "/home/katia/.virtualenvs/securaxis/lib/python3.5/site-packages/ipykernel/__main__.py:8: SettingWithCopyWarning: \n",
      "A value is trying to be set on a copy of a slice from a DataFrame\n",
      "\n",
      "See the caveats in the documentation: http://pandas.pydata.org/pandas-docs/stable/indexing.html#indexing-view-versus-copy\n"
     ]
    }
   ],
   "source": [
    "df.cause[df.cause == \"Other\"] = \"Other (small count)\"\n",
    "df.cause[df.cause == \"Induced corrosion\"] = \"Other (small count)\"\n",
    "df.cause[df.cause == \"Mystery Spill\"] = \"Other (small count)\"\n",
    "df.cause[df.cause == \"Structure failure\"] = \"Other (small count)\"\n",
    "df.cause[df.cause == \"Operational error\"] = \"Other (small count)\"\n",
    "df.cause[df.cause == \"Operational error/Oil theft\"] = \"Other (small count)\"\n",
    "df.cause[df.cause == \"Road Traffic Accident\"] = \"Other (small count)\"\n",
    "df.cause[df.cause == \"Unknown\"] = \"Other (small count)\""
   ]
  },
  {
   "cell_type": "code",
   "execution_count": 33,
   "metadata": {
    "collapsed": false
   },
   "outputs": [
    {
     "data": {
      "text/plain": [
       "Sabotage               470\n",
       "Oil theft              409\n",
       "Sabotage/ Theft        227\n",
       "Operational            164\n",
       "Hacksaw cut            111\n",
       "Equipment failure       61\n",
       "Vandalization           44\n",
       "Use of explosive        41\n",
       "Drilled hole            24\n",
       "Other (small count)     19\n",
       "Corrosion               16\n",
       "Name: cause, dtype: int64"
      ]
     },
     "execution_count": 33,
     "metadata": {},
     "output_type": "execute_result"
    }
   ],
   "source": [
    "df.cause.value_counts()"
   ]
  },
  {
   "cell_type": "markdown",
   "metadata": {},
   "source": [
    "### count"
   ]
  },
  {
   "cell_type": "code",
   "execution_count": 34,
   "metadata": {
    "collapsed": false,
    "scrolled": true
   },
   "outputs": [
    {
     "data": {
      "text/html": [
       "<div>\n",
       "<table border=\"1\" class=\"dataframe\">\n",
       "  <thead>\n",
       "    <tr style=\"text-align: right;\">\n",
       "      <th></th>\n",
       "      <th></th>\n",
       "      <th>oil_spill_id</th>\n",
       "    </tr>\n",
       "    <tr>\n",
       "      <th>cause</th>\n",
       "      <th>cause_amnesty</th>\n",
       "      <th></th>\n",
       "    </tr>\n",
       "  </thead>\n",
       "  <tbody>\n",
       "    <tr>\n",
       "      <th rowspan=\"2\" valign=\"top\">Corrosion</th>\n",
       "      <th>Operational</th>\n",
       "      <td>14</td>\n",
       "    </tr>\n",
       "    <tr>\n",
       "      <th>Undetermined</th>\n",
       "      <td>2</td>\n",
       "    </tr>\n",
       "    <tr>\n",
       "      <th rowspan=\"2\" valign=\"top\">Drilled hole</th>\n",
       "      <th>Operational</th>\n",
       "      <td>4</td>\n",
       "    </tr>\n",
       "    <tr>\n",
       "      <th>Undetermined</th>\n",
       "      <td>20</td>\n",
       "    </tr>\n",
       "    <tr>\n",
       "      <th rowspan=\"4\" valign=\"top\">Equipment failure</th>\n",
       "      <th>Operational</th>\n",
       "      <td>57</td>\n",
       "    </tr>\n",
       "    <tr>\n",
       "      <th>Third party (theft)</th>\n",
       "      <td>2</td>\n",
       "    </tr>\n",
       "    <tr>\n",
       "      <th>Third party (undetermined)</th>\n",
       "      <td>1</td>\n",
       "    </tr>\n",
       "    <tr>\n",
       "      <th>Undetermined</th>\n",
       "      <td>1</td>\n",
       "    </tr>\n",
       "    <tr>\n",
       "      <th rowspan=\"3\" valign=\"top\">Hacksaw cut</th>\n",
       "      <th>Operational</th>\n",
       "      <td>10</td>\n",
       "    </tr>\n",
       "    <tr>\n",
       "      <th>Third party (undetermined)</th>\n",
       "      <td>96</td>\n",
       "    </tr>\n",
       "    <tr>\n",
       "      <th>Undetermined</th>\n",
       "      <td>5</td>\n",
       "    </tr>\n",
       "    <tr>\n",
       "      <th rowspan=\"4\" valign=\"top\">Oil theft</th>\n",
       "      <th>Operational</th>\n",
       "      <td>11</td>\n",
       "    </tr>\n",
       "    <tr>\n",
       "      <th>Third party (theft)</th>\n",
       "      <td>391</td>\n",
       "    </tr>\n",
       "    <tr>\n",
       "      <th>Third party (undetermined)</th>\n",
       "      <td>3</td>\n",
       "    </tr>\n",
       "    <tr>\n",
       "      <th>Undetermined</th>\n",
       "      <td>4</td>\n",
       "    </tr>\n",
       "    <tr>\n",
       "      <th rowspan=\"4\" valign=\"top\">Operational</th>\n",
       "      <th>Operational</th>\n",
       "      <td>152</td>\n",
       "    </tr>\n",
       "    <tr>\n",
       "      <th>Third party (accident)</th>\n",
       "      <td>1</td>\n",
       "    </tr>\n",
       "    <tr>\n",
       "      <th>Third party (undetermined)</th>\n",
       "      <td>4</td>\n",
       "    </tr>\n",
       "    <tr>\n",
       "      <th>Undetermined</th>\n",
       "      <td>7</td>\n",
       "    </tr>\n",
       "    <tr>\n",
       "      <th rowspan=\"5\" valign=\"top\">Other (small count)</th>\n",
       "      <th>Operational</th>\n",
       "      <td>7</td>\n",
       "    </tr>\n",
       "    <tr>\n",
       "      <th>Operational; Third party (theft)</th>\n",
       "      <td>1</td>\n",
       "    </tr>\n",
       "    <tr>\n",
       "      <th>Third party (accident)</th>\n",
       "      <td>2</td>\n",
       "    </tr>\n",
       "    <tr>\n",
       "      <th>Third party (undetermined)</th>\n",
       "      <td>1</td>\n",
       "    </tr>\n",
       "    <tr>\n",
       "      <th>Undetermined</th>\n",
       "      <td>8</td>\n",
       "    </tr>\n",
       "    <tr>\n",
       "      <th rowspan=\"4\" valign=\"top\">Sabotage</th>\n",
       "      <th>Operational</th>\n",
       "      <td>2</td>\n",
       "    </tr>\n",
       "    <tr>\n",
       "      <th>Third party (theft)</th>\n",
       "      <td>262</td>\n",
       "    </tr>\n",
       "    <tr>\n",
       "      <th>Third party (undetermined)</th>\n",
       "      <td>104</td>\n",
       "    </tr>\n",
       "    <tr>\n",
       "      <th>Undetermined</th>\n",
       "      <td>102</td>\n",
       "    </tr>\n",
       "    <tr>\n",
       "      <th rowspan=\"4\" valign=\"top\">Sabotage/ Theft</th>\n",
       "      <th>Operational</th>\n",
       "      <td>5</td>\n",
       "    </tr>\n",
       "    <tr>\n",
       "      <th>Third party (theft)</th>\n",
       "      <td>115</td>\n",
       "    </tr>\n",
       "    <tr>\n",
       "      <th>Third party (undetermined)</th>\n",
       "      <td>70</td>\n",
       "    </tr>\n",
       "    <tr>\n",
       "      <th>Undetermined</th>\n",
       "      <td>37</td>\n",
       "    </tr>\n",
       "    <tr>\n",
       "      <th rowspan=\"4\" valign=\"top\">Use of explosive</th>\n",
       "      <th>Operational</th>\n",
       "      <td>9</td>\n",
       "    </tr>\n",
       "    <tr>\n",
       "      <th>Third party (theft)</th>\n",
       "      <td>1</td>\n",
       "    </tr>\n",
       "    <tr>\n",
       "      <th>Third party (undetermined)</th>\n",
       "      <td>29</td>\n",
       "    </tr>\n",
       "    <tr>\n",
       "      <th>Undetermined</th>\n",
       "      <td>2</td>\n",
       "    </tr>\n",
       "    <tr>\n",
       "      <th rowspan=\"4\" valign=\"top\">Vandalization</th>\n",
       "      <th>Operational</th>\n",
       "      <td>32</td>\n",
       "    </tr>\n",
       "    <tr>\n",
       "      <th>Third party (theft)</th>\n",
       "      <td>1</td>\n",
       "    </tr>\n",
       "    <tr>\n",
       "      <th>Third party (undetermined)</th>\n",
       "      <td>4</td>\n",
       "    </tr>\n",
       "    <tr>\n",
       "      <th>Undetermined</th>\n",
       "      <td>7</td>\n",
       "    </tr>\n",
       "  </tbody>\n",
       "</table>\n",
       "</div>"
      ],
      "text/plain": [
       "                                                      oil_spill_id\n",
       "cause               cause_amnesty                                 \n",
       "Corrosion           Operational                                 14\n",
       "                    Undetermined                                 2\n",
       "Drilled hole        Operational                                  4\n",
       "                    Undetermined                                20\n",
       "Equipment failure   Operational                                 57\n",
       "                    Third party (theft)                          2\n",
       "                    Third party (undetermined)                   1\n",
       "                    Undetermined                                 1\n",
       "Hacksaw cut         Operational                                 10\n",
       "                    Third party (undetermined)                  96\n",
       "                    Undetermined                                 5\n",
       "Oil theft           Operational                                 11\n",
       "                    Third party (theft)                        391\n",
       "                    Third party (undetermined)                   3\n",
       "                    Undetermined                                 4\n",
       "Operational         Operational                                152\n",
       "                    Third party (accident)                       1\n",
       "                    Third party (undetermined)                   4\n",
       "                    Undetermined                                 7\n",
       "Other (small count) Operational                                  7\n",
       "                    Operational; Third party (theft)             1\n",
       "                    Third party (accident)                       2\n",
       "                    Third party (undetermined)                   1\n",
       "                    Undetermined                                 8\n",
       "Sabotage            Operational                                  2\n",
       "                    Third party (theft)                        262\n",
       "                    Third party (undetermined)                 104\n",
       "                    Undetermined                               102\n",
       "Sabotage/ Theft     Operational                                  5\n",
       "                    Third party (theft)                        115\n",
       "                    Third party (undetermined)                  70\n",
       "                    Undetermined                                37\n",
       "Use of explosive    Operational                                  9\n",
       "                    Third party (theft)                          1\n",
       "                    Third party (undetermined)                  29\n",
       "                    Undetermined                                 2\n",
       "Vandalization       Operational                                 32\n",
       "                    Third party (theft)                          1\n",
       "                    Third party (undetermined)                   4\n",
       "                    Undetermined                                 7"
      ]
     },
     "execution_count": 34,
     "metadata": {},
     "output_type": "execute_result"
    }
   ],
   "source": [
    "df[[\"oil_spill_id\", \"cause_amnesty\", \"cause\"]].groupby([\"cause\", \"cause_amnesty\"]).count()#.unstack(\"cause\")"
   ]
  },
  {
   "cell_type": "code",
   "execution_count": 20,
   "metadata": {
    "collapsed": false
   },
   "outputs": [
    {
     "data": {
      "text/plain": [
       "Third party (theft)                 772\n",
       "Third party (undetermined)          312\n",
       "Operational                         303\n",
       "Undetermined                        195\n",
       "Third party (accident)                3\n",
       "Operational; Third party (theft)      1\n",
       "Name: cause_amnesty, dtype: int64"
      ]
     },
     "execution_count": 20,
     "metadata": {},
     "output_type": "execute_result"
    }
   ],
   "source": [
    "df.cause_amnesty.value_counts()"
   ]
  },
  {
   "cell_type": "code",
   "execution_count": 35,
   "metadata": {
    "collapsed": false
   },
   "outputs": [
    {
     "data": {
      "text/html": [
       "<div>\n",
       "<table border=\"1\" class=\"dataframe\">\n",
       "  <thead>\n",
       "    <tr style=\"text-align: right;\">\n",
       "      <th></th>\n",
       "      <th></th>\n",
       "      <th>oil_spill_id</th>\n",
       "    </tr>\n",
       "    <tr>\n",
       "      <th>cause_mapped</th>\n",
       "      <th>cause_amnesty</th>\n",
       "      <th></th>\n",
       "    </tr>\n",
       "  </thead>\n",
       "  <tbody>\n",
       "    <tr>\n",
       "      <th rowspan=\"6\" valign=\"top\">company's fault</th>\n",
       "      <th>Operational</th>\n",
       "      <td>228</td>\n",
       "    </tr>\n",
       "    <tr>\n",
       "      <th>Operational; Third party (theft)</th>\n",
       "      <td>1</td>\n",
       "    </tr>\n",
       "    <tr>\n",
       "      <th>Third party (accident)</th>\n",
       "      <td>1</td>\n",
       "    </tr>\n",
       "    <tr>\n",
       "      <th>Third party (theft)</th>\n",
       "      <td>2</td>\n",
       "    </tr>\n",
       "    <tr>\n",
       "      <th>Third party (undetermined)</th>\n",
       "      <td>5</td>\n",
       "    </tr>\n",
       "    <tr>\n",
       "      <th>Undetermined</th>\n",
       "      <td>13</td>\n",
       "    </tr>\n",
       "    <tr>\n",
       "      <th rowspan=\"4\" valign=\"top\">other</th>\n",
       "      <th>Operational</th>\n",
       "      <td>2</td>\n",
       "    </tr>\n",
       "    <tr>\n",
       "      <th>Third party (accident)</th>\n",
       "      <td>2</td>\n",
       "    </tr>\n",
       "    <tr>\n",
       "      <th>Third party (undetermined)</th>\n",
       "      <td>1</td>\n",
       "    </tr>\n",
       "    <tr>\n",
       "      <th>Undetermined</th>\n",
       "      <td>5</td>\n",
       "    </tr>\n",
       "    <tr>\n",
       "      <th rowspan=\"4\" valign=\"top\">sabotage/theft</th>\n",
       "      <th>Operational</th>\n",
       "      <td>73</td>\n",
       "    </tr>\n",
       "    <tr>\n",
       "      <th>Third party (theft)</th>\n",
       "      <td>770</td>\n",
       "    </tr>\n",
       "    <tr>\n",
       "      <th>Third party (undetermined)</th>\n",
       "      <td>306</td>\n",
       "    </tr>\n",
       "    <tr>\n",
       "      <th>Undetermined</th>\n",
       "      <td>177</td>\n",
       "    </tr>\n",
       "  </tbody>\n",
       "</table>\n",
       "</div>"
      ],
      "text/plain": [
       "                                                  oil_spill_id\n",
       "cause_mapped    cause_amnesty                                 \n",
       "company's fault Operational                                228\n",
       "                Operational; Third party (theft)             1\n",
       "                Third party (accident)                       1\n",
       "                Third party (theft)                          2\n",
       "                Third party (undetermined)                   5\n",
       "                Undetermined                                13\n",
       "other           Operational                                  2\n",
       "                Third party (accident)                       2\n",
       "                Third party (undetermined)                   1\n",
       "                Undetermined                                 5\n",
       "sabotage/theft  Operational                                 73\n",
       "                Third party (theft)                        770\n",
       "                Third party (undetermined)                 306\n",
       "                Undetermined                               177"
      ]
     },
     "execution_count": 35,
     "metadata": {},
     "output_type": "execute_result"
    }
   ],
   "source": [
    "df[[\"oil_spill_id\", \"cause_amnesty\", \"cause_mapped\"]].groupby([\"cause_mapped\", \"cause_amnesty\"]).count()#.unstack(\"cause\")"
   ]
  },
  {
   "cell_type": "code",
   "execution_count": null,
   "metadata": {
    "collapsed": true
   },
   "outputs": [],
   "source": []
  }
 ],
 "metadata": {
  "kernelspec": {
   "display_name": "Python 3",
   "language": "python",
   "name": "python3"
  },
  "language_info": {
   "codemirror_mode": {
    "name": "ipython",
    "version": 3
   },
   "file_extension": ".py",
   "mimetype": "text/x-python",
   "name": "python",
   "nbconvert_exporter": "python",
   "pygments_lexer": "ipython3",
   "version": "3.5.2"
  }
 },
 "nbformat": 4,
 "nbformat_minor": 2
}
