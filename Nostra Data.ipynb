{
 "cells": [
  {
   "cell_type": "code",
   "execution_count": 1,
   "metadata": {
    "collapsed": true
   },
   "outputs": [],
   "source": [
    "import pandas as pd\n",
    "import numpy as np\n",
    "import re\n",
    "from datetime import datetime\n",
    "from openpyxl import load_workbook"
   ]
  },
  {
   "cell_type": "code",
   "execution_count": 2,
   "metadata": {
    "collapsed": true
   },
   "outputs": [],
   "source": [
    "nosdra_df = pd.read_excel(\"./data/Nosdra (Scraped, Not Clean).xlsx\", encoding=\"ISO-8859-1\")"
   ]
  },
  {
   "cell_type": "code",
   "execution_count": 3,
   "metadata": {
    "collapsed": false
   },
   "outputs": [
    {
     "data": {
      "text/html": [
       "<div>\n",
       "<table border=\"1\" class=\"dataframe\">\n",
       "  <thead>\n",
       "    <tr style=\"text-align: right;\">\n",
       "      <th></th>\n",
       "      <th>shell_jiv_number</th>\n",
       "      <th>eni_jiv_number</th>\n",
       "    </tr>\n",
       "  </thead>\n",
       "  <tbody>\n",
       "    <tr>\n",
       "      <th>0</th>\n",
       "      <td>NaN</td>\n",
       "      <td>SAR-360-486-104</td>\n",
       "    </tr>\n",
       "    <tr>\n",
       "      <th>1</th>\n",
       "      <td>NaN</td>\n",
       "      <td>SAR-488-668-546</td>\n",
       "    </tr>\n",
       "    <tr>\n",
       "      <th>2</th>\n",
       "      <td>1571105.0</td>\n",
       "      <td>NaN</td>\n",
       "    </tr>\n",
       "    <tr>\n",
       "      <th>3</th>\n",
       "      <td>1350803.0</td>\n",
       "      <td>NaN</td>\n",
       "    </tr>\n",
       "    <tr>\n",
       "      <th>4</th>\n",
       "      <td>809483.0</td>\n",
       "      <td>NaN</td>\n",
       "    </tr>\n",
       "  </tbody>\n",
       "</table>\n",
       "</div>"
      ],
      "text/plain": [
       "   shell_jiv_number   eni_jiv_number\n",
       "0               NaN  SAR-360-486-104\n",
       "1               NaN  SAR-488-668-546\n",
       "2         1571105.0              NaN\n",
       "3         1350803.0              NaN\n",
       "4          809483.0              NaN"
      ]
     },
     "execution_count": 3,
     "metadata": {},
     "output_type": "execute_result"
    }
   ],
   "source": [
    "nosdra_df[[\"shell_jiv_number\", \"eni_jiv_number\"]].head()"
   ]
  },
  {
   "cell_type": "code",
   "execution_count": 4,
   "metadata": {
    "collapsed": false
   },
   "outputs": [
    {
     "data": {
      "text/plain": [
       "836"
      ]
     },
     "execution_count": 4,
     "metadata": {},
     "output_type": "execute_result"
    }
   ],
   "source": [
    "nosdra_df.shell_jiv_number.notnull().sum()"
   ]
  },
  {
   "cell_type": "code",
   "execution_count": 5,
   "metadata": {
    "collapsed": false
   },
   "outputs": [
    {
     "data": {
      "text/plain": [
       "721"
      ]
     },
     "execution_count": 5,
     "metadata": {},
     "output_type": "execute_result"
    }
   ],
   "source": [
    "nosdra_df.eni_jiv_number.notnull().sum()"
   ]
  },
  {
   "cell_type": "code",
   "execution_count": 6,
   "metadata": {
    "collapsed": false
   },
   "outputs": [
    {
     "data": {
      "text/plain": [
       "13017"
      ]
     },
     "execution_count": 6,
     "metadata": {},
     "output_type": "execute_result"
    }
   ],
   "source": [
    "nosdra_df.shape[0]"
   ]
  },
  {
   "cell_type": "markdown",
   "metadata": {},
   "source": [
    "### Verify nosdra company does not have any shell and eni jiv ids"
   ]
  },
  {
   "cell_type": "code",
   "execution_count": 7,
   "metadata": {
    "collapsed": false
   },
   "outputs": [
    {
     "data": {
      "text/html": [
       "<div>\n",
       "<table border=\"1\" class=\"dataframe\">\n",
       "  <thead>\n",
       "    <tr style=\"text-align: right;\">\n",
       "      <th></th>\n",
       "      <th>id</th>\n",
       "      <th>nosdra_id</th>\n",
       "      <th>nosdra_status</th>\n",
       "      <th>nosdra_unverified_by_nosdra</th>\n",
       "      <th>nosdra_zonal_offce</th>\n",
       "      <th>nosdra_company</th>\n",
       "      <th>nosdra_incident_number</th>\n",
       "      <th>nosdra_incident_date</th>\n",
       "      <th>nosdra_report_date</th>\n",
       "      <th>nosdra_containment</th>\n",
       "      <th>...</th>\n",
       "      <th>shell_estimated_spill_volume</th>\n",
       "      <th>shell_clean_up_status</th>\n",
       "      <th>shell_comments</th>\n",
       "      <th>eni_jiv_number</th>\n",
       "      <th>eni_facility_equipment</th>\n",
       "      <th>eni_area</th>\n",
       "      <th>eni_lga</th>\n",
       "      <th>eni_date_of_incident_spill</th>\n",
       "      <th>eni_incident_spill_cause</th>\n",
       "      <th>eni_estimated_spill_volume</th>\n",
       "    </tr>\n",
       "  </thead>\n",
       "  <tbody>\n",
       "  </tbody>\n",
       "</table>\n",
       "<p>0 rows × 55 columns</p>\n",
       "</div>"
      ],
      "text/plain": [
       "Empty DataFrame\n",
       "Columns: [id, nosdra_id, nosdra_status, nosdra_unverified_by_nosdra, nosdra_zonal_offce, nosdra_company, nosdra_incident_number, nosdra_incident_date, nosdra_report_date, nosdra_containment, nosdra_estimated_quantity, nosdra_quantity_recovered, nosdra_spill_stop_date, nosdra_type_of_facility, nosdra_cause, nosdra_initial_containment_mesures, nosdra_site_location_name, nosdra_latitude, nosdra_logitude, nosdra_lga, nosdra_estimated_spill_area, nosdra_spill_area_habitat, nosdra_description_of_impact, nosdra_states_affected, nosdra_form_a_date, nosdra_form_b_date, nosdra_form_c_date, nosdra_jiv_date, nosdra_present_at_jiv, nosdra_clean_up_date, nosdra_clean_up_methods, nosdra_post_clean_up_inspection_date, nosdra_post_impact_assesment_date, nosdra_remidiation_start, nosdra_remidiation_end, nosdra_final_sampling_date, nosdra_certificate_date, nosdra_certificate_number, nosdra_last_updated_by, shell_jiv_number, shell_date_reported, shell_incident_site, shell_jiv_date, shell_terrain, shell_cause, shell_estimated_spill_volume, shell_clean_up_status, shell_comments, eni_jiv_number, eni_facility_equipment, eni_area, eni_lga, eni_date_of_incident_spill, eni_incident_spill_cause, eni_estimated_spill_volume]\n",
       "Index: []\n",
       "\n",
       "[0 rows x 55 columns]"
      ]
     },
     "execution_count": 7,
     "metadata": {},
     "output_type": "execute_result"
    }
   ],
   "source": [
    "nosdra_df[(nosdra_df.nosdra_company.isin([\"NAOC\", \"SPDC\"])) & (nosdra_df.shell_jiv_number.notnull()) & (nosdra_df.eni_jiv_number.notnull())]"
   ]
  },
  {
   "cell_type": "code",
   "execution_count": 8,
   "metadata": {
    "collapsed": false
   },
   "outputs": [],
   "source": [
    "nosdra_df = nosdra_df[nosdra_df.nosdra_company.isin([\"NAOC\", \"SPDC\"])]"
   ]
  },
  {
   "cell_type": "code",
   "execution_count": 9,
   "metadata": {
    "collapsed": false
   },
   "outputs": [
    {
     "data": {
      "text/plain": [
       "8125"
      ]
     },
     "execution_count": 9,
     "metadata": {},
     "output_type": "execute_result"
    }
   ],
   "source": [
    "nosdra_df.shape[0]"
   ]
  },
  {
   "cell_type": "code",
   "execution_count": 10,
   "metadata": {
    "collapsed": true
   },
   "outputs": [],
   "source": [
    "nosdra_df.to_excel(\"./data/NOSDRA_Shell_Eni_only.xlsx\")"
   ]
  },
  {
   "cell_type": "code",
   "execution_count": 11,
   "metadata": {
    "collapsed": false
   },
   "outputs": [
    {
     "data": {
      "text/plain": [
       "8125"
      ]
     },
     "execution_count": 11,
     "metadata": {},
     "output_type": "execute_result"
    }
   ],
   "source": [
    "nosdra_df.shell_jiv_number.isnull().sum()"
   ]
  },
  {
   "cell_type": "code",
   "execution_count": 12,
   "metadata": {
    "collapsed": false
   },
   "outputs": [
    {
     "data": {
      "text/plain": [
       "8125"
      ]
     },
     "execution_count": 12,
     "metadata": {},
     "output_type": "execute_result"
    }
   ],
   "source": [
    "nosdra_df.eni_jiv_number.isnull().sum()"
   ]
  },
  {
   "cell_type": "code",
   "execution_count": 13,
   "metadata": {
    "collapsed": false
   },
   "outputs": [
    {
     "data": {
      "text/plain": [
       "8125"
      ]
     },
     "execution_count": 13,
     "metadata": {},
     "output_type": "execute_result"
    }
   ],
   "source": [
    "nosdra_df.shape[0]"
   ]
  },
  {
   "cell_type": "code",
   "execution_count": 14,
   "metadata": {
    "collapsed": false
   },
   "outputs": [
    {
     "data": {
      "text/plain": [
       "(32, 55)"
      ]
     },
     "execution_count": 14,
     "metadata": {},
     "output_type": "execute_result"
    }
   ],
   "source": [
    "nosdra_df[nosdra_df.nosdra_estimated_spill_area > 1].shape"
   ]
  },
  {
   "cell_type": "code",
   "execution_count": 15,
   "metadata": {
    "collapsed": false
   },
   "outputs": [
    {
     "data": {
      "text/plain": [
       "1787"
      ]
     },
     "execution_count": 15,
     "metadata": {},
     "output_type": "execute_result"
    }
   ],
   "source": [
    "nosdra_df.nosdra_jiv_date.isnull().sum()"
   ]
  },
  {
   "cell_type": "code",
   "execution_count": 16,
   "metadata": {
    "collapsed": false
   },
   "outputs": [
    {
     "data": {
      "text/plain": [
       "8125"
      ]
     },
     "execution_count": 16,
     "metadata": {},
     "output_type": "execute_result"
    }
   ],
   "source": [
    "nosdra_df.nosdra_present_at_jiv.isnull().sum()"
   ]
  },
  {
   "cell_type": "markdown",
   "metadata": {},
   "source": [
    "### remove unnecessary columns"
   ]
  },
  {
   "cell_type": "code",
   "execution_count": 17,
   "metadata": {
    "collapsed": false
   },
   "outputs": [
    {
     "data": {
      "text/plain": [
       "id                                         0\n",
       "nosdra_id                                  0\n",
       "nosdra_status                              0\n",
       "nosdra_unverified_by_nosdra                0\n",
       "nosdra_zonal_offce                      8125\n",
       "nosdra_company                             0\n",
       "nosdra_incident_number                  2259\n",
       "nosdra_incident_date                     442\n",
       "nosdra_report_date                      5874\n",
       "nosdra_containment                      8125\n",
       "nosdra_estimated_quantity                  0\n",
       "nosdra_quantity_recovered                  0\n",
       "nosdra_spill_stop_date                  6701\n",
       "nosdra_type_of_facility                 5503\n",
       "nosdra_cause                            1087\n",
       "nosdra_initial_containment_mesures      8125\n",
       "nosdra_site_location_name                 11\n",
       "nosdra_latitude                            0\n",
       "nosdra_logitude                            0\n",
       "nosdra_lga                              2377\n",
       "nosdra_estimated_spill_area                0\n",
       "nosdra_spill_area_habitat               1072\n",
       "nosdra_description_of_impact            5944\n",
       "nosdra_states_affected                   920\n",
       "nosdra_form_a_date                      4489\n",
       "nosdra_form_b_date                      5097\n",
       "nosdra_form_c_date                      7303\n",
       "nosdra_jiv_date                         1787\n",
       "nosdra_present_at_jiv                   8125\n",
       "nosdra_clean_up_date                    7516\n",
       "nosdra_clean_up_methods                 7657\n",
       "nosdra_post_clean_up_inspection_date    6861\n",
       "nosdra_post_impact_assesment_date       8125\n",
       "nosdra_remidiation_start                8125\n",
       "nosdra_remidiation_end                  8125\n",
       "nosdra_final_sampling_date              7095\n",
       "nosdra_certificate_date                 6993\n",
       "nosdra_certificate_number               6995\n",
       "nosdra_last_updated_by                     0\n",
       "dtype: int64"
      ]
     },
     "execution_count": 17,
     "metadata": {},
     "output_type": "execute_result"
    }
   ],
   "source": [
    "nosdra_df.loc[:, :\"nosdra_last_updated_by\"].isnull().sum()"
   ]
  },
  {
   "cell_type": "code",
   "execution_count": 18,
   "metadata": {
    "collapsed": false
   },
   "outputs": [
    {
     "data": {
      "text/plain": [
       "shell_jiv_number                8125\n",
       "shell_date_reported             8125\n",
       "shell_incident_site             8125\n",
       "shell_jiv_date                  8125\n",
       "shell_terrain                   8125\n",
       "shell_cause                     8125\n",
       "shell_estimated_spill_volume    8125\n",
       "shell_clean_up_status           8125\n",
       "shell_comments                  8125\n",
       "eni_jiv_number                  8125\n",
       "eni_facility_equipment          8125\n",
       "eni_area                        8125\n",
       "eni_lga                         8125\n",
       "eni_date_of_incident_spill      8125\n",
       "eni_incident_spill_cause        8125\n",
       "eni_estimated_spill_volume      8125\n",
       "dtype: int64"
      ]
     },
     "execution_count": 18,
     "metadata": {},
     "output_type": "execute_result"
    }
   ],
   "source": [
    "nosdra_df.loc[:,\"shell_jiv_number\":\"eni_estimated_spill_volume\"].isnull().sum()"
   ]
  },
  {
   "cell_type": "markdown",
   "metadata": {},
   "source": [
    "### remove empty columns"
   ]
  },
  {
   "cell_type": "code",
   "execution_count": 19,
   "metadata": {
    "collapsed": true
   },
   "outputs": [],
   "source": [
    "nosdra_df = nosdra_df.loc[:, :\"nosdra_last_updated_by\"]"
   ]
  },
  {
   "cell_type": "code",
   "execution_count": 20,
   "metadata": {
    "collapsed": false
   },
   "outputs": [],
   "source": [
    "del nosdra_df[\"nosdra_zonal_offce\"]\n",
    "del nosdra_df[\"nosdra_containment\"]\n",
    "del nosdra_df[\"nosdra_initial_containment_mesures\"]\n",
    "del nosdra_df[\"nosdra_present_at_jiv\"]\n",
    "del nosdra_df[\"nosdra_post_impact_assesment_date\"]\n",
    "del nosdra_df[\"nosdra_remidiation_start\"]\n",
    "del nosdra_df[\"nosdra_remidiation_end\"]"
   ]
  },
  {
   "cell_type": "code",
   "execution_count": 21,
   "metadata": {
    "collapsed": false
   },
   "outputs": [
    {
     "data": {
      "text/html": [
       "<div>\n",
       "<table border=\"1\" class=\"dataframe\">\n",
       "  <thead>\n",
       "    <tr style=\"text-align: right;\">\n",
       "      <th></th>\n",
       "      <th>id</th>\n",
       "      <th>nosdra_id</th>\n",
       "      <th>nosdra_status</th>\n",
       "      <th>nosdra_unverified_by_nosdra</th>\n",
       "      <th>nosdra_company</th>\n",
       "      <th>nosdra_incident_number</th>\n",
       "      <th>nosdra_incident_date</th>\n",
       "      <th>nosdra_report_date</th>\n",
       "      <th>nosdra_estimated_quantity</th>\n",
       "      <th>nosdra_quantity_recovered</th>\n",
       "      <th>...</th>\n",
       "      <th>nosdra_form_b_date</th>\n",
       "      <th>nosdra_form_c_date</th>\n",
       "      <th>nosdra_jiv_date</th>\n",
       "      <th>nosdra_clean_up_date</th>\n",
       "      <th>nosdra_clean_up_methods</th>\n",
       "      <th>nosdra_post_clean_up_inspection_date</th>\n",
       "      <th>nosdra_final_sampling_date</th>\n",
       "      <th>nosdra_certificate_date</th>\n",
       "      <th>nosdra_certificate_number</th>\n",
       "      <th>nosdra_last_updated_by</th>\n",
       "    </tr>\n",
       "  </thead>\n",
       "  <tbody>\n",
       "    <tr>\n",
       "      <th>3260</th>\n",
       "      <td>3261</td>\n",
       "      <td>1682</td>\n",
       "      <td>confirmed</td>\n",
       "      <td>0</td>\n",
       "      <td>NAOC</td>\n",
       "      <td>2001/LAR/017</td>\n",
       "      <td>2001-05-20 00:00:00</td>\n",
       "      <td>NaN</td>\n",
       "      <td>0</td>\n",
       "      <td>0</td>\n",
       "      <td>...</td>\n",
       "      <td>NaN</td>\n",
       "      <td>NaN</td>\n",
       "      <td>NaN</td>\n",
       "      <td>NaN</td>\n",
       "      <td>NaN</td>\n",
       "      <td>NaN</td>\n",
       "      <td>2011-06-29 00:00:00</td>\n",
       "      <td>2013-02-11 00:00:00</td>\n",
       "      <td>NOSDRA/RS/000908</td>\n",
       "      <td>2016-01-08 AB011, 2015-04-14 AB006, NOSDRA</td>\n",
       "    </tr>\n",
       "    <tr>\n",
       "      <th>3261</th>\n",
       "      <td>3262</td>\n",
       "      <td>1683</td>\n",
       "      <td>confirmed</td>\n",
       "      <td>0</td>\n",
       "      <td>NAOC</td>\n",
       "      <td>2001/LAR/049</td>\n",
       "      <td>2001-10-03 00:00:00</td>\n",
       "      <td>NaN</td>\n",
       "      <td>0</td>\n",
       "      <td>0</td>\n",
       "      <td>...</td>\n",
       "      <td>NaN</td>\n",
       "      <td>NaN</td>\n",
       "      <td>NaN</td>\n",
       "      <td>NaN</td>\n",
       "      <td>NaN</td>\n",
       "      <td>NaN</td>\n",
       "      <td>2011-06-29 00:00:00</td>\n",
       "      <td>NaN</td>\n",
       "      <td>NaN</td>\n",
       "      <td>NOSDRA</td>\n",
       "    </tr>\n",
       "    <tr>\n",
       "      <th>3262</th>\n",
       "      <td>3263</td>\n",
       "      <td>1684</td>\n",
       "      <td>confirmed</td>\n",
       "      <td>0</td>\n",
       "      <td>NAOC</td>\n",
       "      <td>NaN</td>\n",
       "      <td>2002-06-18 00:00:00</td>\n",
       "      <td>NaN</td>\n",
       "      <td>0</td>\n",
       "      <td>0</td>\n",
       "      <td>...</td>\n",
       "      <td>NaN</td>\n",
       "      <td>NaN</td>\n",
       "      <td>NaN</td>\n",
       "      <td>NaN</td>\n",
       "      <td>NaN</td>\n",
       "      <td>NaN</td>\n",
       "      <td>2009-05-07 00:00:00</td>\n",
       "      <td>NaN</td>\n",
       "      <td>NaN</td>\n",
       "      <td>NOSDRA</td>\n",
       "    </tr>\n",
       "    <tr>\n",
       "      <th>3263</th>\n",
       "      <td>3264</td>\n",
       "      <td>1685</td>\n",
       "      <td>confirmed</td>\n",
       "      <td>0</td>\n",
       "      <td>NAOC</td>\n",
       "      <td>NaN</td>\n",
       "      <td>2002-07-24 00:00:00</td>\n",
       "      <td>NaN</td>\n",
       "      <td>0</td>\n",
       "      <td>0</td>\n",
       "      <td>...</td>\n",
       "      <td>NaN</td>\n",
       "      <td>NaN</td>\n",
       "      <td>NaN</td>\n",
       "      <td>NaN</td>\n",
       "      <td>NaN</td>\n",
       "      <td>NaN</td>\n",
       "      <td>2009-05-06 00:00:00</td>\n",
       "      <td>NaN</td>\n",
       "      <td>NaN</td>\n",
       "      <td>NOSDRA</td>\n",
       "    </tr>\n",
       "    <tr>\n",
       "      <th>3264</th>\n",
       "      <td>3265</td>\n",
       "      <td>1686</td>\n",
       "      <td>confirmed</td>\n",
       "      <td>0</td>\n",
       "      <td>NAOC</td>\n",
       "      <td>NaN</td>\n",
       "      <td>2002-11-17 00:00:00</td>\n",
       "      <td>NaN</td>\n",
       "      <td>0</td>\n",
       "      <td>0</td>\n",
       "      <td>...</td>\n",
       "      <td>NaN</td>\n",
       "      <td>NaN</td>\n",
       "      <td>NaN</td>\n",
       "      <td>NaN</td>\n",
       "      <td>NaN</td>\n",
       "      <td>NaN</td>\n",
       "      <td>2009-05-06 00:00:00</td>\n",
       "      <td>NaN</td>\n",
       "      <td>NaN</td>\n",
       "      <td>NOSDRA</td>\n",
       "    </tr>\n",
       "  </tbody>\n",
       "</table>\n",
       "<p>5 rows × 32 columns</p>\n",
       "</div>"
      ],
      "text/plain": [
       "        id  nosdra_id nosdra_status  nosdra_unverified_by_nosdra  \\\n",
       "3260  3261       1682     confirmed                            0   \n",
       "3261  3262       1683     confirmed                            0   \n",
       "3262  3263       1684     confirmed                            0   \n",
       "3263  3264       1685     confirmed                            0   \n",
       "3264  3265       1686     confirmed                            0   \n",
       "\n",
       "     nosdra_company nosdra_incident_number nosdra_incident_date  \\\n",
       "3260           NAOC           2001/LAR/017  2001-05-20 00:00:00   \n",
       "3261           NAOC           2001/LAR/049  2001-10-03 00:00:00   \n",
       "3262           NAOC                    NaN  2002-06-18 00:00:00   \n",
       "3263           NAOC                    NaN  2002-07-24 00:00:00   \n",
       "3264           NAOC                    NaN  2002-11-17 00:00:00   \n",
       "\n",
       "     nosdra_report_date  nosdra_estimated_quantity  nosdra_quantity_recovered  \\\n",
       "3260                NaN                          0                          0   \n",
       "3261                NaN                          0                          0   \n",
       "3262                NaN                          0                          0   \n",
       "3263                NaN                          0                          0   \n",
       "3264                NaN                          0                          0   \n",
       "\n",
       "                         ...                     nosdra_form_b_date  \\\n",
       "3260                     ...                                    NaN   \n",
       "3261                     ...                                    NaN   \n",
       "3262                     ...                                    NaN   \n",
       "3263                     ...                                    NaN   \n",
       "3264                     ...                                    NaN   \n",
       "\n",
       "     nosdra_form_c_date nosdra_jiv_date nosdra_clean_up_date  \\\n",
       "3260                NaN             NaN                  NaN   \n",
       "3261                NaN             NaN                  NaN   \n",
       "3262                NaN             NaN                  NaN   \n",
       "3263                NaN             NaN                  NaN   \n",
       "3264                NaN             NaN                  NaN   \n",
       "\n",
       "      nosdra_clean_up_methods  nosdra_post_clean_up_inspection_date  \\\n",
       "3260                      NaN                                   NaN   \n",
       "3261                      NaN                                   NaN   \n",
       "3262                      NaN                                   NaN   \n",
       "3263                      NaN                                   NaN   \n",
       "3264                      NaN                                   NaN   \n",
       "\n",
       "     nosdra_final_sampling_date  nosdra_certificate_date  \\\n",
       "3260        2011-06-29 00:00:00      2013-02-11 00:00:00   \n",
       "3261        2011-06-29 00:00:00                      NaN   \n",
       "3262        2009-05-07 00:00:00                      NaN   \n",
       "3263        2009-05-06 00:00:00                      NaN   \n",
       "3264        2009-05-06 00:00:00                      NaN   \n",
       "\n",
       "     nosdra_certificate_number                      nosdra_last_updated_by  \n",
       "3260          NOSDRA/RS/000908  2016-01-08 AB011, 2015-04-14 AB006, NOSDRA  \n",
       "3261                       NaN                                      NOSDRA  \n",
       "3262                       NaN                                      NOSDRA  \n",
       "3263                       NaN                                      NOSDRA  \n",
       "3264                       NaN                                      NOSDRA  \n",
       "\n",
       "[5 rows x 32 columns]"
      ]
     },
     "execution_count": 21,
     "metadata": {},
     "output_type": "execute_result"
    }
   ],
   "source": [
    "nosdra_df.head()"
   ]
  },
  {
   "cell_type": "code",
   "execution_count": 22,
   "metadata": {
    "collapsed": true
   },
   "outputs": [],
   "source": [
    "nosdra_df.to_excel(\"./data/NOSDRA_Shell_Eni_only.xlsx\")"
   ]
  },
  {
   "cell_type": "code",
   "execution_count": 23,
   "metadata": {
    "collapsed": false
   },
   "outputs": [
    {
     "data": {
      "text/plain": [
       "2259"
      ]
     },
     "execution_count": 23,
     "metadata": {},
     "output_type": "execute_result"
    }
   ],
   "source": [
    "nosdra_df.nosdra_incident_number.isnull().sum()"
   ]
  },
  {
   "cell_type": "code",
   "execution_count": 24,
   "metadata": {
    "collapsed": false
   },
   "outputs": [
    {
     "data": {
      "text/html": [
       "<div>\n",
       "<table border=\"1\" class=\"dataframe\">\n",
       "  <thead>\n",
       "    <tr style=\"text-align: right;\">\n",
       "      <th></th>\n",
       "      <th>nosdra_incident_number</th>\n",
       "    </tr>\n",
       "    <tr>\n",
       "      <th>nosdra_company</th>\n",
       "      <th></th>\n",
       "    </tr>\n",
       "  </thead>\n",
       "  <tbody>\n",
       "    <tr>\n",
       "      <th>NAOC</th>\n",
       "      <td>3747</td>\n",
       "    </tr>\n",
       "    <tr>\n",
       "      <th>SPDC</th>\n",
       "      <td>2119</td>\n",
       "    </tr>\n",
       "  </tbody>\n",
       "</table>\n",
       "</div>"
      ],
      "text/plain": [
       "                nosdra_incident_number\n",
       "nosdra_company                        \n",
       "NAOC                              3747\n",
       "SPDC                              2119"
      ]
     },
     "execution_count": 24,
     "metadata": {},
     "output_type": "execute_result"
    }
   ],
   "source": [
    "nosdra_df[[\"nosdra_incident_number\", \"nosdra_company\"]].groupby([\"nosdra_company\"]).count()"
   ]
  },
  {
   "cell_type": "code",
   "execution_count": 25,
   "metadata": {
    "collapsed": false
   },
   "outputs": [
    {
     "data": {
      "text/plain": [
       "7088       1990_00144\n",
       "7089       1990_00145\n",
       "7090       1991_00137\n",
       "7091       1994_00003\n",
       "7092       1994_00129\n",
       "7093       2001_00108\n",
       "7094       2008_00234\n",
       "7095       2003_00197\n",
       "7096       2004_00155\n",
       "7097       2004_00168\n",
       "7098       2004_00226\n",
       "7099       2006_00001\n",
       "7100       2006_00005\n",
       "7101       2006_00004\n",
       "7102       2006_00038\n",
       "7103       2006_00006\n",
       "7104       2006_00016\n",
       "7105       2006_00011\n",
       "7106       2006_00013\n",
       "7107       2006_00026\n",
       "7108       2006_00025\n",
       "7109       2006_00031\n",
       "7110       2006_00021\n",
       "7111       2006_00037\n",
       "7112       2006_00048\n",
       "7113       2006_00044\n",
       "7114       2006_00043\n",
       "7115       2006_00047\n",
       "7116       2006_00061\n",
       "7117       2006_00050\n",
       "             ...     \n",
       "12893    2014_1285421\n",
       "12894    2016_1628051\n",
       "12895    2016_1668115\n",
       "12896    2015_1357611\n",
       "12899    2015_1440709\n",
       "12900    2014_1194724\n",
       "12907    2016_1658680\n",
       "12908    2016_1677744\n",
       "12910    2015_1514020\n",
       "12911    2014-1309037\n",
       "12912         1399539\n",
       "12913         1590758\n",
       "12914    2015_1514020\n",
       "12915         1388396\n",
       "12916         1728850\n",
       "12917    2015/1519547\n",
       "12923    2014_1280235\n",
       "12924    2014_1280235\n",
       "12927         1762022\n",
       "12928         1579923\n",
       "12933         1612718\n",
       "12934         1613896\n",
       "12935    2017_1778297\n",
       "12936    2016_1670965\n",
       "12938         1780924\n",
       "12940         1787741\n",
       "12941         1784118\n",
       "12950         1628084\n",
       "12951         1754420\n",
       "12952         1748646\n",
       "Name: nosdra_incident_number, dtype: object"
      ]
     },
     "execution_count": 25,
     "metadata": {},
     "output_type": "execute_result"
    }
   ],
   "source": [
    "nosdra_df[nosdra_df.nosdra_company == \"SPDC\"].nosdra_incident_number"
   ]
  },
  {
   "cell_type": "code",
   "execution_count": 26,
   "metadata": {
    "collapsed": false
   },
   "outputs": [
    {
     "data": {
      "text/plain": [
       "3260    2001/LAR/017\n",
       "3261    2001/LAR/049\n",
       "3262             NaN\n",
       "3263             NaN\n",
       "3264             NaN\n",
       "Name: nosdra_incident_number, dtype: object"
      ]
     },
     "execution_count": 26,
     "metadata": {},
     "output_type": "execute_result"
    }
   ],
   "source": [
    "nosdra_df[nosdra_df.nosdra_company == \"NAOC\"].nosdra_incident_number.head()"
   ]
  },
  {
   "cell_type": "markdown",
   "metadata": {},
   "source": [
    "### investigate only Shell Nosdra data"
   ]
  },
  {
   "cell_type": "code",
   "execution_count": 27,
   "metadata": {
    "collapsed": false
   },
   "outputs": [],
   "source": [
    "id_number_regex = re.compile(r\"((\\d+)[_/-])?[0]{0,5}(\\d+)\")\n",
    "\n",
    "years = [np.nan] * nosdra_df.shape[0]\n",
    "shell_jivs = [np.nan] * nosdra_df.shape[0]\n",
    "\n",
    "for i in range(nosdra_df.shape[0]):\n",
    "    company = nosdra_df.iloc[i].nosdra_company\n",
    "    incident_date = nosdra_df.iloc[i].nosdra_incident_date\n",
    "    number = nosdra_df.iloc[i].nosdra_incident_number\n",
    "    if type(number) != float:\n",
    "        if company == \"SPDC\":\n",
    "            match = re.match(id_number_regex, str(number))\n",
    "            if match:\n",
    "                year = match.group(2)\n",
    "                number = match.group(3)\n",
    "                shell_jivs[i] = number\n",
    "                if str(year) == \"None\":\n",
    "                    if type(incident_date) != float:\n",
    "                        years[i] = incident_date.year\n",
    "                else:\n",
    "                    if year[:1] == \"3\":\n",
    "                        year = \"2\" + year[1:]\n",
    "                    years[i] = year\n",
    "                \n",
    "nosdra_df[\"shell_jiv_extracted\"] = pd.Series(shell_jivs).values\n",
    "nosdra_df[\"year_of_spill\"] = pd.Series(years).values\n",
    "nosdra_df[\"year_of_spill\"] = pd.to_datetime(nosdra_df[\"year_of_spill\"], format=\"%Y\")"
   ]
  },
  {
   "cell_type": "code",
   "execution_count": 28,
   "metadata": {
    "collapsed": false
   },
   "outputs": [
    {
     "data": {
      "text/plain": [
       "((2922, 34), 2108)"
      ]
     },
     "execution_count": 28,
     "metadata": {},
     "output_type": "execute_result"
    }
   ],
   "source": [
    "shell_df = nosdra_df[nosdra_df.nosdra_company == \"SPDC\"]\n",
    "shell_df.shape, shell_df.year_of_spill.notnull().sum()"
   ]
  },
  {
   "cell_type": "markdown",
   "metadata": {},
   "source": [
    "### take only oil spills after 2006"
   ]
  },
  {
   "cell_type": "code",
   "execution_count": 29,
   "metadata": {
    "collapsed": false
   },
   "outputs": [],
   "source": [
    "from datetime import date\n",
    "shell_df = shell_df[shell_df.year_of_spill >= date(2006, 1, 1)]"
   ]
  },
  {
   "cell_type": "code",
   "execution_count": 30,
   "metadata": {
    "collapsed": false
   },
   "outputs": [
    {
     "data": {
      "text/html": [
       "<div>\n",
       "<table border=\"1\" class=\"dataframe\">\n",
       "  <thead>\n",
       "    <tr style=\"text-align: right;\">\n",
       "      <th></th>\n",
       "      <th>id</th>\n",
       "      <th>nosdra_id</th>\n",
       "      <th>nosdra_status</th>\n",
       "      <th>nosdra_unverified_by_nosdra</th>\n",
       "      <th>nosdra_company</th>\n",
       "      <th>nosdra_incident_number</th>\n",
       "      <th>nosdra_incident_date</th>\n",
       "      <th>nosdra_report_date</th>\n",
       "      <th>nosdra_estimated_quantity</th>\n",
       "      <th>nosdra_quantity_recovered</th>\n",
       "      <th>...</th>\n",
       "      <th>nosdra_jiv_date</th>\n",
       "      <th>nosdra_clean_up_date</th>\n",
       "      <th>nosdra_clean_up_methods</th>\n",
       "      <th>nosdra_post_clean_up_inspection_date</th>\n",
       "      <th>nosdra_final_sampling_date</th>\n",
       "      <th>nosdra_certificate_date</th>\n",
       "      <th>nosdra_certificate_number</th>\n",
       "      <th>nosdra_last_updated_by</th>\n",
       "      <th>shell_jiv_extracted</th>\n",
       "      <th>year_of_spill</th>\n",
       "    </tr>\n",
       "  </thead>\n",
       "  <tbody>\n",
       "    <tr>\n",
       "      <th>7094</th>\n",
       "      <td>7095</td>\n",
       "      <td>5690</td>\n",
       "      <td>confirmed</td>\n",
       "      <td>0</td>\n",
       "      <td>SPDC</td>\n",
       "      <td>2008_00234</td>\n",
       "      <td>2001-10-04 00:00:00</td>\n",
       "      <td>NaN</td>\n",
       "      <td>0</td>\n",
       "      <td>0</td>\n",
       "      <td>...</td>\n",
       "      <td>NaN</td>\n",
       "      <td>NaN</td>\n",
       "      <td>NaN</td>\n",
       "      <td>NaN</td>\n",
       "      <td>2012-07-09 00:00:00</td>\n",
       "      <td>NaN</td>\n",
       "      <td>NaN</td>\n",
       "      <td>NOSDRA</td>\n",
       "      <td>234</td>\n",
       "      <td>2008-01-01</td>\n",
       "    </tr>\n",
       "    <tr>\n",
       "      <th>7099</th>\n",
       "      <td>7100</td>\n",
       "      <td>5695</td>\n",
       "      <td>confirmed</td>\n",
       "      <td>0</td>\n",
       "      <td>SPDC</td>\n",
       "      <td>2006_00001</td>\n",
       "      <td>2005-01-02 00:00:00</td>\n",
       "      <td>NaN</td>\n",
       "      <td>0</td>\n",
       "      <td>0</td>\n",
       "      <td>...</td>\n",
       "      <td>NaN</td>\n",
       "      <td>NaN</td>\n",
       "      <td>NaN</td>\n",
       "      <td>NaN</td>\n",
       "      <td>NaN</td>\n",
       "      <td>NaN</td>\n",
       "      <td>NaN</td>\n",
       "      <td>NOSDRA</td>\n",
       "      <td>1</td>\n",
       "      <td>2006-01-01</td>\n",
       "    </tr>\n",
       "    <tr>\n",
       "      <th>7100</th>\n",
       "      <td>7101</td>\n",
       "      <td>5696</td>\n",
       "      <td>confirmed</td>\n",
       "      <td>0</td>\n",
       "      <td>SPDC</td>\n",
       "      <td>2006_00005</td>\n",
       "      <td>2005-01-04 00:00:00</td>\n",
       "      <td>NaN</td>\n",
       "      <td>0</td>\n",
       "      <td>0</td>\n",
       "      <td>...</td>\n",
       "      <td>NaN</td>\n",
       "      <td>NaN</td>\n",
       "      <td>NaN</td>\n",
       "      <td>NaN</td>\n",
       "      <td>NaN</td>\n",
       "      <td>NaN</td>\n",
       "      <td>NaN</td>\n",
       "      <td>NOSDRA</td>\n",
       "      <td>5</td>\n",
       "      <td>2006-01-01</td>\n",
       "    </tr>\n",
       "    <tr>\n",
       "      <th>7101</th>\n",
       "      <td>7102</td>\n",
       "      <td>5697</td>\n",
       "      <td>confirmed</td>\n",
       "      <td>0</td>\n",
       "      <td>SPDC</td>\n",
       "      <td>2006_00004</td>\n",
       "      <td>2005-01-04 00:00:00</td>\n",
       "      <td>NaN</td>\n",
       "      <td>0</td>\n",
       "      <td>0</td>\n",
       "      <td>...</td>\n",
       "      <td>NaN</td>\n",
       "      <td>NaN</td>\n",
       "      <td>NaN</td>\n",
       "      <td>NaN</td>\n",
       "      <td>NaN</td>\n",
       "      <td>NaN</td>\n",
       "      <td>NaN</td>\n",
       "      <td>NOSDRA</td>\n",
       "      <td>4</td>\n",
       "      <td>2006-01-01</td>\n",
       "    </tr>\n",
       "    <tr>\n",
       "      <th>7102</th>\n",
       "      <td>7103</td>\n",
       "      <td>5698</td>\n",
       "      <td>confirmed</td>\n",
       "      <td>0</td>\n",
       "      <td>SPDC</td>\n",
       "      <td>2006_00038</td>\n",
       "      <td>2005-01-05 00:00:00</td>\n",
       "      <td>NaN</td>\n",
       "      <td>0</td>\n",
       "      <td>0</td>\n",
       "      <td>...</td>\n",
       "      <td>NaN</td>\n",
       "      <td>NaN</td>\n",
       "      <td>NaN</td>\n",
       "      <td>NaN</td>\n",
       "      <td>NaN</td>\n",
       "      <td>2009-12-08 00:00:00</td>\n",
       "      <td>NOSDRA/RS/000349</td>\n",
       "      <td>2016-01-05 AB008, NOSDRA</td>\n",
       "      <td>38</td>\n",
       "      <td>2006-01-01</td>\n",
       "    </tr>\n",
       "  </tbody>\n",
       "</table>\n",
       "<p>5 rows × 34 columns</p>\n",
       "</div>"
      ],
      "text/plain": [
       "        id  nosdra_id nosdra_status  nosdra_unverified_by_nosdra  \\\n",
       "7094  7095       5690     confirmed                            0   \n",
       "7099  7100       5695     confirmed                            0   \n",
       "7100  7101       5696     confirmed                            0   \n",
       "7101  7102       5697     confirmed                            0   \n",
       "7102  7103       5698     confirmed                            0   \n",
       "\n",
       "     nosdra_company nosdra_incident_number nosdra_incident_date  \\\n",
       "7094           SPDC             2008_00234  2001-10-04 00:00:00   \n",
       "7099           SPDC             2006_00001  2005-01-02 00:00:00   \n",
       "7100           SPDC             2006_00005  2005-01-04 00:00:00   \n",
       "7101           SPDC             2006_00004  2005-01-04 00:00:00   \n",
       "7102           SPDC             2006_00038  2005-01-05 00:00:00   \n",
       "\n",
       "     nosdra_report_date  nosdra_estimated_quantity  nosdra_quantity_recovered  \\\n",
       "7094                NaN                          0                          0   \n",
       "7099                NaN                          0                          0   \n",
       "7100                NaN                          0                          0   \n",
       "7101                NaN                          0                          0   \n",
       "7102                NaN                          0                          0   \n",
       "\n",
       "          ...      nosdra_jiv_date nosdra_clean_up_date  \\\n",
       "7094      ...                  NaN                  NaN   \n",
       "7099      ...                  NaN                  NaN   \n",
       "7100      ...                  NaN                  NaN   \n",
       "7101      ...                  NaN                  NaN   \n",
       "7102      ...                  NaN                  NaN   \n",
       "\n",
       "     nosdra_clean_up_methods nosdra_post_clean_up_inspection_date  \\\n",
       "7094                     NaN                                  NaN   \n",
       "7099                     NaN                                  NaN   \n",
       "7100                     NaN                                  NaN   \n",
       "7101                     NaN                                  NaN   \n",
       "7102                     NaN                                  NaN   \n",
       "\n",
       "      nosdra_final_sampling_date  nosdra_certificate_date  \\\n",
       "7094         2012-07-09 00:00:00                      NaN   \n",
       "7099                         NaN                      NaN   \n",
       "7100                         NaN                      NaN   \n",
       "7101                         NaN                      NaN   \n",
       "7102                         NaN      2009-12-08 00:00:00   \n",
       "\n",
       "     nosdra_certificate_number    nosdra_last_updated_by shell_jiv_extracted  \\\n",
       "7094                       NaN                    NOSDRA                 234   \n",
       "7099                       NaN                    NOSDRA                   1   \n",
       "7100                       NaN                    NOSDRA                   5   \n",
       "7101                       NaN                    NOSDRA                   4   \n",
       "7102          NOSDRA/RS/000349  2016-01-05 AB008, NOSDRA                  38   \n",
       "\n",
       "     year_of_spill  \n",
       "7094    2008-01-01  \n",
       "7099    2006-01-01  \n",
       "7100    2006-01-01  \n",
       "7101    2006-01-01  \n",
       "7102    2006-01-01  \n",
       "\n",
       "[5 rows x 34 columns]"
      ]
     },
     "execution_count": 30,
     "metadata": {},
     "output_type": "execute_result"
    }
   ],
   "source": [
    "shell_df.head()"
   ]
  },
  {
   "cell_type": "markdown",
   "metadata": {
    "collapsed": true
   },
   "source": [
    "### compare > 2006 Nosdra Shell spills to what the company reported"
   ]
  },
  {
   "cell_type": "code",
   "execution_count": 31,
   "metadata": {
    "collapsed": false
   },
   "outputs": [
    {
     "name": "stderr",
     "output_type": "stream",
     "text": [
      "/home/katia/.virtualenvs/securaxis/lib/python3.5/site-packages/ipykernel/__main__.py:1: ParserWarning: Falling back to the 'python' engine because the separator encoded in utf-8 is > 1 char long, and the 'c' engine does not support such separators; you can avoid this warning by specifying engine='python'.\n",
      "  if __name__ == '__main__':\n"
     ]
    },
    {
     "data": {
      "text/plain": [
       "865"
      ]
     },
     "execution_count": 31,
     "metadata": {},
     "output_type": "execute_result"
    }
   ],
   "source": [
    "df = pd.read_csv(\"./data/EniShell_transformed.csv\", sep=\"¬\")\n",
    "df_shell = df[df.company == \"SPDC\"]\n",
    "df_shell.shape[0]"
   ]
  },
  {
   "cell_type": "code",
   "execution_count": 32,
   "metadata": {
    "collapsed": true
   },
   "outputs": [],
   "source": [
    "shell_jivs = set(df_shell.jiv_number)\n",
    "nosdra_shell_jivs = set(shell_df.shell_jiv_extracted)"
   ]
  },
  {
   "cell_type": "markdown",
   "metadata": {},
   "source": [
    "#### How many oil spills were reported by both?"
   ]
  },
  {
   "cell_type": "code",
   "execution_count": 33,
   "metadata": {
    "collapsed": false
   },
   "outputs": [
    {
     "data": {
      "text/plain": [
       "662"
      ]
     },
     "execution_count": 33,
     "metadata": {},
     "output_type": "execute_result"
    }
   ],
   "source": [
    "repeated_jivs = shell_jivs.intersection(nosdra_shell_jivs)\n",
    "len(repeated_jivs)"
   ]
  },
  {
   "cell_type": "code",
   "execution_count": 34,
   "metadata": {
    "collapsed": false
   },
   "outputs": [
    {
     "data": {
      "text/html": [
       "<div>\n",
       "<table border=\"1\" class=\"dataframe\">\n",
       "  <thead>\n",
       "    <tr style=\"text-align: right;\">\n",
       "      <th></th>\n",
       "      <th>id</th>\n",
       "      <th>nosdra_id</th>\n",
       "      <th>nosdra_status</th>\n",
       "      <th>nosdra_unverified_by_nosdra</th>\n",
       "      <th>nosdra_company</th>\n",
       "      <th>nosdra_incident_number</th>\n",
       "      <th>nosdra_incident_date</th>\n",
       "      <th>nosdra_report_date</th>\n",
       "      <th>nosdra_estimated_quantity</th>\n",
       "      <th>nosdra_quantity_recovered</th>\n",
       "      <th>...</th>\n",
       "      <th>nosdra_jiv_date</th>\n",
       "      <th>nosdra_clean_up_date</th>\n",
       "      <th>nosdra_clean_up_methods</th>\n",
       "      <th>nosdra_post_clean_up_inspection_date</th>\n",
       "      <th>nosdra_final_sampling_date</th>\n",
       "      <th>nosdra_certificate_date</th>\n",
       "      <th>nosdra_certificate_number</th>\n",
       "      <th>nosdra_last_updated_by</th>\n",
       "      <th>shell_jiv_extracted</th>\n",
       "      <th>year_of_spill</th>\n",
       "    </tr>\n",
       "  </thead>\n",
       "  <tbody>\n",
       "    <tr>\n",
       "      <th>7094</th>\n",
       "      <td>7095</td>\n",
       "      <td>5690</td>\n",
       "      <td>confirmed</td>\n",
       "      <td>0</td>\n",
       "      <td>SPDC</td>\n",
       "      <td>2008_00234</td>\n",
       "      <td>2001-10-04 00:00:00</td>\n",
       "      <td>NaN</td>\n",
       "      <td>0</td>\n",
       "      <td>0</td>\n",
       "      <td>...</td>\n",
       "      <td>NaN</td>\n",
       "      <td>NaN</td>\n",
       "      <td>NaN</td>\n",
       "      <td>NaN</td>\n",
       "      <td>2012-07-09 00:00:00</td>\n",
       "      <td>NaN</td>\n",
       "      <td>NaN</td>\n",
       "      <td>NOSDRA</td>\n",
       "      <td>234</td>\n",
       "      <td>2008-01-01</td>\n",
       "    </tr>\n",
       "    <tr>\n",
       "      <th>7099</th>\n",
       "      <td>7100</td>\n",
       "      <td>5695</td>\n",
       "      <td>confirmed</td>\n",
       "      <td>0</td>\n",
       "      <td>SPDC</td>\n",
       "      <td>2006_00001</td>\n",
       "      <td>2005-01-02 00:00:00</td>\n",
       "      <td>NaN</td>\n",
       "      <td>0</td>\n",
       "      <td>0</td>\n",
       "      <td>...</td>\n",
       "      <td>NaN</td>\n",
       "      <td>NaN</td>\n",
       "      <td>NaN</td>\n",
       "      <td>NaN</td>\n",
       "      <td>NaN</td>\n",
       "      <td>NaN</td>\n",
       "      <td>NaN</td>\n",
       "      <td>NOSDRA</td>\n",
       "      <td>1</td>\n",
       "      <td>2006-01-01</td>\n",
       "    </tr>\n",
       "    <tr>\n",
       "      <th>7100</th>\n",
       "      <td>7101</td>\n",
       "      <td>5696</td>\n",
       "      <td>confirmed</td>\n",
       "      <td>0</td>\n",
       "      <td>SPDC</td>\n",
       "      <td>2006_00005</td>\n",
       "      <td>2005-01-04 00:00:00</td>\n",
       "      <td>NaN</td>\n",
       "      <td>0</td>\n",
       "      <td>0</td>\n",
       "      <td>...</td>\n",
       "      <td>NaN</td>\n",
       "      <td>NaN</td>\n",
       "      <td>NaN</td>\n",
       "      <td>NaN</td>\n",
       "      <td>NaN</td>\n",
       "      <td>NaN</td>\n",
       "      <td>NaN</td>\n",
       "      <td>NOSDRA</td>\n",
       "      <td>5</td>\n",
       "      <td>2006-01-01</td>\n",
       "    </tr>\n",
       "    <tr>\n",
       "      <th>7101</th>\n",
       "      <td>7102</td>\n",
       "      <td>5697</td>\n",
       "      <td>confirmed</td>\n",
       "      <td>0</td>\n",
       "      <td>SPDC</td>\n",
       "      <td>2006_00004</td>\n",
       "      <td>2005-01-04 00:00:00</td>\n",
       "      <td>NaN</td>\n",
       "      <td>0</td>\n",
       "      <td>0</td>\n",
       "      <td>...</td>\n",
       "      <td>NaN</td>\n",
       "      <td>NaN</td>\n",
       "      <td>NaN</td>\n",
       "      <td>NaN</td>\n",
       "      <td>NaN</td>\n",
       "      <td>NaN</td>\n",
       "      <td>NaN</td>\n",
       "      <td>NOSDRA</td>\n",
       "      <td>4</td>\n",
       "      <td>2006-01-01</td>\n",
       "    </tr>\n",
       "    <tr>\n",
       "      <th>7102</th>\n",
       "      <td>7103</td>\n",
       "      <td>5698</td>\n",
       "      <td>confirmed</td>\n",
       "      <td>0</td>\n",
       "      <td>SPDC</td>\n",
       "      <td>2006_00038</td>\n",
       "      <td>2005-01-05 00:00:00</td>\n",
       "      <td>NaN</td>\n",
       "      <td>0</td>\n",
       "      <td>0</td>\n",
       "      <td>...</td>\n",
       "      <td>NaN</td>\n",
       "      <td>NaN</td>\n",
       "      <td>NaN</td>\n",
       "      <td>NaN</td>\n",
       "      <td>NaN</td>\n",
       "      <td>2009-12-08 00:00:00</td>\n",
       "      <td>NOSDRA/RS/000349</td>\n",
       "      <td>2016-01-05 AB008, NOSDRA</td>\n",
       "      <td>38</td>\n",
       "      <td>2006-01-01</td>\n",
       "    </tr>\n",
       "  </tbody>\n",
       "</table>\n",
       "<p>5 rows × 34 columns</p>\n",
       "</div>"
      ],
      "text/plain": [
       "        id  nosdra_id nosdra_status  nosdra_unverified_by_nosdra  \\\n",
       "7094  7095       5690     confirmed                            0   \n",
       "7099  7100       5695     confirmed                            0   \n",
       "7100  7101       5696     confirmed                            0   \n",
       "7101  7102       5697     confirmed                            0   \n",
       "7102  7103       5698     confirmed                            0   \n",
       "\n",
       "     nosdra_company nosdra_incident_number nosdra_incident_date  \\\n",
       "7094           SPDC             2008_00234  2001-10-04 00:00:00   \n",
       "7099           SPDC             2006_00001  2005-01-02 00:00:00   \n",
       "7100           SPDC             2006_00005  2005-01-04 00:00:00   \n",
       "7101           SPDC             2006_00004  2005-01-04 00:00:00   \n",
       "7102           SPDC             2006_00038  2005-01-05 00:00:00   \n",
       "\n",
       "     nosdra_report_date  nosdra_estimated_quantity  nosdra_quantity_recovered  \\\n",
       "7094                NaN                          0                          0   \n",
       "7099                NaN                          0                          0   \n",
       "7100                NaN                          0                          0   \n",
       "7101                NaN                          0                          0   \n",
       "7102                NaN                          0                          0   \n",
       "\n",
       "          ...      nosdra_jiv_date nosdra_clean_up_date  \\\n",
       "7094      ...                  NaN                  NaN   \n",
       "7099      ...                  NaN                  NaN   \n",
       "7100      ...                  NaN                  NaN   \n",
       "7101      ...                  NaN                  NaN   \n",
       "7102      ...                  NaN                  NaN   \n",
       "\n",
       "     nosdra_clean_up_methods nosdra_post_clean_up_inspection_date  \\\n",
       "7094                     NaN                                  NaN   \n",
       "7099                     NaN                                  NaN   \n",
       "7100                     NaN                                  NaN   \n",
       "7101                     NaN                                  NaN   \n",
       "7102                     NaN                                  NaN   \n",
       "\n",
       "      nosdra_final_sampling_date  nosdra_certificate_date  \\\n",
       "7094         2012-07-09 00:00:00                      NaN   \n",
       "7099                         NaN                      NaN   \n",
       "7100                         NaN                      NaN   \n",
       "7101                         NaN                      NaN   \n",
       "7102                         NaN      2009-12-08 00:00:00   \n",
       "\n",
       "     nosdra_certificate_number    nosdra_last_updated_by shell_jiv_extracted  \\\n",
       "7094                       NaN                    NOSDRA                 234   \n",
       "7099                       NaN                    NOSDRA                   1   \n",
       "7100                       NaN                    NOSDRA                   5   \n",
       "7101                       NaN                    NOSDRA                   4   \n",
       "7102          NOSDRA/RS/000349  2016-01-05 AB008, NOSDRA                  38   \n",
       "\n",
       "     year_of_spill  \n",
       "7094    2008-01-01  \n",
       "7099    2006-01-01  \n",
       "7100    2006-01-01  \n",
       "7101    2006-01-01  \n",
       "7102    2006-01-01  \n",
       "\n",
       "[5 rows x 34 columns]"
      ]
     },
     "execution_count": 34,
     "metadata": {},
     "output_type": "execute_result"
    }
   ],
   "source": [
    "shell_df[~shell_df.shell_jiv_extracted.isin(repeated_jivs)].head()"
   ]
  },
  {
   "cell_type": "code",
   "execution_count": 35,
   "metadata": {
    "collapsed": true
   },
   "outputs": [],
   "source": [
    "stats_file = \"./data/Statistics.xlsx\"\n",
    "\n",
    "def update_excel(new_df, sht_name):\n",
    "    book = load_workbook(stats_file)\n",
    "\n",
    "    writer = pd.ExcelWriter(stats_file, engine = 'openpyxl')\n",
    "    writer.book = book\n",
    "\n",
    "    new_df.to_excel(writer, sheet_name = sht_name)\n",
    "    writer.save()\n",
    "    writer.close()"
   ]
  },
  {
   "cell_type": "code",
   "execution_count": 36,
   "metadata": {
    "collapsed": false
   },
   "outputs": [
    {
     "name": "stderr",
     "output_type": "stream",
     "text": [
      "/home/katia/.virtualenvs/securaxis/lib/python3.5/site-packages/openpyxl/workbook/child.py:99: UserWarning: Title is more than 31 characters. Some applications may not be able to read the file\n",
      "  warnings.warn(\"Title is more than 31 characters. Some applications may not be able to read the file\")\n"
     ]
    }
   ],
   "source": [
    "update_excel(shell_df[~shell_df.shell_jiv_extracted.isin(repeated_jivs)], \"Nosdra Shell Spills NOT REPORTED By SHELL\")"
   ]
  },
  {
   "cell_type": "code",
   "execution_count": null,
   "metadata": {
    "collapsed": true
   },
   "outputs": [],
   "source": []
  }
 ],
 "metadata": {
  "kernelspec": {
   "display_name": "Python 3",
   "language": "python",
   "name": "python3"
  },
  "language_info": {
   "codemirror_mode": {
    "name": "ipython",
    "version": 3
   },
   "file_extension": ".py",
   "mimetype": "text/x-python",
   "name": "python",
   "nbconvert_exporter": "python",
   "pygments_lexer": "ipython3",
   "version": "3.5.2"
  }
 },
 "nbformat": 4,
 "nbformat_minor": 2
}
