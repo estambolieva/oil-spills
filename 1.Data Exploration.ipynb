{
 "cells": [
  {
   "cell_type": "code",
   "execution_count": 191,
   "metadata": {
    "collapsed": true
   },
   "outputs": [],
   "source": [
    "import pandas as pd\n",
    "import numpy as np\n",
    "import re\n",
    "from string import punctuation"
   ]
  },
  {
   "cell_type": "code",
   "execution_count": 192,
   "metadata": {
    "collapsed": true
   },
   "outputs": [],
   "source": [
    "df = pd.read_excel(\"./data/Eni_Shell_data.xlsx\")"
   ]
  },
  {
   "cell_type": "code",
   "execution_count": 193,
   "metadata": {
    "collapsed": false
   },
   "outputs": [
    {
     "data": {
      "text/plain": [
       "(1586, 46)"
      ]
     },
     "execution_count": 193,
     "metadata": {},
     "output_type": "execute_result"
    }
   ],
   "source": [
    "df.shape"
   ]
  },
  {
   "cell_type": "code",
   "execution_count": 194,
   "metadata": {
    "collapsed": false
   },
   "outputs": [
    {
     "data": {
      "text/plain": [
       "Index(['Oil Spill ID', 'Company', 'JIV Number', 'Date Reported (Shell, Eni)',\n",
       "       'Year', 'JIV Date (Shell)',\n",
       "       'Facility equipment/ Incident site (Shell, Eni)',\n",
       "       'Area/ Terrain (Shell, Eni)', 'Cause (Shell, Eni)',\n",
       "       'Volume (Shell, Eni) barrels\\n', 'Clean-up Status (Shell)',\n",
       "       'Comments (Shell)', 'LGA (Eni)', 'JIV Asset Id', 'Included', 'JIV Url',\n",
       "       'JIV URL hyperlinked', 'JIV Cause Verified', 'Date Incident',\n",
       "       'Date start investigation', 'Description of Leak Point',\n",
       "       'Incident caused by', 'Incident caused by (Clean)',\n",
       "       'Comments cause (amnesty classification)',\n",
       "       'Cause (amnesty classification)', 'JIV Location Verified',\n",
       "       'Location.Type', 'Location Unit', 'Lat/Northing', 'Long/Easting',\n",
       "       'Tranformation notes', 'Latitude (normalised)',\n",
       "       'Longitude (normalised)', 'Area', 'AreaUnit', 'JIV Comment Type',\n",
       "       'JIV Comment', 'photo_lookup_id', 'Photo Asset Id', 'Included.1',\n",
       "       'Photo Url', 'Photo url hyperlinked', 'Photo Damage',\n",
       "       'Photo Damage Followup', 'JIV Comment Type.1', 'JIV Comment.1'],\n",
       "      dtype='object')"
      ]
     },
     "execution_count": 194,
     "metadata": {},
     "output_type": "execute_result"
    }
   ],
   "source": [
    "df.columns"
   ]
  },
  {
   "cell_type": "markdown",
   "metadata": {},
   "source": [
    "### I. Nornalize column names"
   ]
  },
  {
   "cell_type": "code",
   "execution_count": 195,
   "metadata": {
    "collapsed": true
   },
   "outputs": [],
   "source": [
    "column_names = [\n",
    "    \"oil_spill_id\",\n",
    "    \"company\", \n",
    "    \"jiv_number\",\n",
    "    \"date_reported\",\n",
    "    \"year\",\n",
    "    \"date_jiv_shell\",\n",
    "    \"facility_equipment\",\n",
    "    \"terrain\",\n",
    "    \"cause\",\n",
    "    \"barrels\",\n",
    "    \"cleanup_status_text\",\n",
    "    \"comments_shell\",\n",
    "    \"lga_eni\",\n",
    "    \"jiv_asset_id\",\n",
    "    \"in_decoders\",\n",
    "    \"jiv_url\",\n",
    "    \"jiv_url_hyperlinked\",\n",
    "    \"cause_jiv_verified\",\n",
    "    \"date_incident\",\n",
    "    \"date_investigation_start\",\n",
    "    \"leak_point_text\",\n",
    "    \"cause_incident_caused_by_dirty\",\n",
    "    \"cause_incident_caused_by\",\n",
    "    \"cause_amnesty_comment\",\n",
    "    \"cause_amnesty\",\n",
    "    \"location_jiv_verified\",\n",
    "    \"location_type\",\n",
    "    \"location_unit\",\n",
    "    \"lat_northing\",\n",
    "    \"long_eastling\",\n",
    "    \"location_transformation_notes\",\n",
    "    \"lat\",\n",
    "    \"long\",\n",
    "    \"area_decoders\",\n",
    "    \"area_unit\",\n",
    "    \"comment_type_jiv\",\n",
    "    \"comment_jiv\",\n",
    "    \"photo_lookup_id\",\n",
    "    \"photo_asset_id\",\n",
    "    \"in_decoders2\",\n",
    "    \"photo_url\",\n",
    "    \"photo_url_hyperlinked\",\n",
    "    \"damage_photo\",\n",
    "    \"damage_photo_followup\",\n",
    "    \"comment_jiv_duplicate\",\n",
    "    \"comment_jiv_text\"\n",
    "]"
   ]
  },
  {
   "cell_type": "code",
   "execution_count": 196,
   "metadata": {
    "collapsed": false
   },
   "outputs": [],
   "source": [
    "pd.DataFrame({\"Original Column Names\": df.columns, \"Alias\": column_names}).to_csv(\"columns.csv\")"
   ]
  },
  {
   "cell_type": "code",
   "execution_count": 197,
   "metadata": {
    "collapsed": false
   },
   "outputs": [
    {
     "data": {
      "text/plain": [
       "((46,), 46)"
      ]
     },
     "execution_count": 197,
     "metadata": {},
     "output_type": "execute_result"
    }
   ],
   "source": [
    "df.columns.shape, len(column_names)"
   ]
  },
  {
   "cell_type": "code",
   "execution_count": 198,
   "metadata": {
    "collapsed": true
   },
   "outputs": [],
   "source": [
    "df.columns = column_names"
   ]
  },
  {
   "cell_type": "markdown",
   "metadata": {},
   "source": [
    "### II. Explore data"
   ]
  },
  {
   "cell_type": "markdown",
   "metadata": {},
   "source": [
    "#### 1. Do \"Included\" and \"Included.1\" hold the same data?"
   ]
  },
  {
   "cell_type": "code",
   "execution_count": 199,
   "metadata": {
    "collapsed": false
   },
   "outputs": [
    {
     "data": {
      "text/html": [
       "<div>\n",
       "<table border=\"1\" class=\"dataframe\">\n",
       "  <thead>\n",
       "    <tr style=\"text-align: right;\">\n",
       "      <th></th>\n",
       "      <th>in_decoders</th>\n",
       "      <th>in_decoders2</th>\n",
       "    </tr>\n",
       "  </thead>\n",
       "  <tbody>\n",
       "    <tr>\n",
       "      <th>0</th>\n",
       "      <td>Y</td>\n",
       "      <td>Y</td>\n",
       "    </tr>\n",
       "    <tr>\n",
       "      <th>1</th>\n",
       "      <td>Y</td>\n",
       "      <td>Y</td>\n",
       "    </tr>\n",
       "    <tr>\n",
       "      <th>2</th>\n",
       "      <td>N</td>\n",
       "      <td>Y</td>\n",
       "    </tr>\n",
       "    <tr>\n",
       "      <th>3</th>\n",
       "      <td>N</td>\n",
       "      <td>Y</td>\n",
       "    </tr>\n",
       "    <tr>\n",
       "      <th>4</th>\n",
       "      <td>Y</td>\n",
       "      <td>Y</td>\n",
       "    </tr>\n",
       "  </tbody>\n",
       "</table>\n",
       "</div>"
      ],
      "text/plain": [
       "  in_decoders in_decoders2\n",
       "0           Y            Y\n",
       "1           Y            Y\n",
       "2           N            Y\n",
       "3           N            Y\n",
       "4           Y            Y"
      ]
     },
     "execution_count": 199,
     "metadata": {},
     "output_type": "execute_result"
    }
   ],
   "source": [
    "df[[\"in_decoders\", \"in_decoders2\"]].head()"
   ]
  },
  {
   "cell_type": "code",
   "execution_count": 200,
   "metadata": {
    "collapsed": false
   },
   "outputs": [
    {
     "data": {
      "text/plain": [
       "Y                                       1558\n",
       "N (asset error on shell/eni wensite)      13\n",
       "Missing photo                              8\n",
       "N                                          5\n",
       "N, photo missing                           2\n",
       "Name: in_decoders2, dtype: int64"
      ]
     },
     "execution_count": 200,
     "metadata": {},
     "output_type": "execute_result"
    }
   ],
   "source": [
    "df.in_decoders2.value_counts()"
   ]
  },
  {
   "cell_type": "markdown",
   "metadata": {},
   "source": [
    "#### 2. explore Facility Equiptment"
   ]
  },
  {
   "cell_type": "markdown",
   "metadata": {},
   "source": [
    "- '' inches\n",
    "- pipeline name\n",
    "- \"at\" location"
   ]
  },
  {
   "cell_type": "code",
   "execution_count": 201,
   "metadata": {
    "collapsed": false
   },
   "outputs": [
    {
     "data": {
      "text/plain": [
       "0                            24'' Ogoda/Brass Pipeline\n",
       "1    12'' Imo River 1 and 2 - Ogale Pipeline at komkom\n",
       "2              Adibawa Well 8 S/L Wellhead at Edagberi\n",
       "3           24'' Bomu - Bonny Pipeline at Okolo Launch\n",
       "4       10'' Diebu Creek-Nun River Pipeline at Oporoma\n",
       "Name: facility_equipment, dtype: object"
      ]
     },
     "execution_count": 201,
     "metadata": {},
     "output_type": "execute_result"
    }
   ],
   "source": [
    "df.facility_equipment.head(5)"
   ]
  },
  {
   "cell_type": "code",
   "execution_count": 202,
   "metadata": {
    "collapsed": false
   },
   "outputs": [],
   "source": [
    "# regexs\n",
    "inch_single_quote_regex = re.compile(r\"(\\d+)''\")\n",
    "inch_double_quote_regex = re.compile(r'(\\d+)\"')\n",
    "location_regex = re.compile(r\"at\\s(.*)\")\n",
    "\n",
    "inches = [np.nan] * df.shape[0]\n",
    "facility_type_name = [np.nan] * df.shape[0]\n",
    "facility_location = [np.nan] * df.shape[0]\n",
    "\n",
    "no_inch_cnt = 0\n",
    "missing_loc_count = 0\n",
    "for i in range(df.shape[0]):\n",
    "    \n",
    "    facility_info = df.facility_equipment.iloc[i].lower()\n",
    "    # a. exctract inches\n",
    "    try:\n",
    "        inches[i] = int(re.search(inch_single_quote_regex, facility_info).group(1))\n",
    "    except:\n",
    "        try:\n",
    "            inches[i] = int(re.search(inch_double_quote_regex, facility_info).group(1))\n",
    "        except:\n",
    "            no_inch_cnt += 1\n",
    "            \n",
    "    # b. extract facility type\n",
    "    type_found = False\n",
    "    otherline_seen = \"line\" in facility_info\n",
    "    flowlines = set([\"flowline\", \"fl\"])\n",
    "    flowline_seen = flowlines.intersection(set(facility_info.split(\" \"))) or \"flow line\" in facility_info\n",
    "    pipeline_seen = \"pipeline\" in facility_info\n",
    "    well_seen = \"well\" in facility_info\n",
    "    wellhead_seen = \"wellhead\" in facility_info\n",
    "    manifold_seen = \"manifold\" in facility_info\n",
    "    trunklines = set([\"trunkline\", \"tl\"])\n",
    "    trunkline_seen = trunklines.intersection(set(facility_info.split(\" \"))) or \"trunk line\" in facility_info\n",
    "    deliverylines = set([\"deliveryline\", \"dl\"])\n",
    "    deliveryline_seen = deliverylines.intersection(set(facility_info.split(\" \"))) or \"delivery line\" in facility_info\n",
    "    bulklines = set([\"bulkline\", \"bl\"])\n",
    "    bulkline_seen = bulklines.intersection(set(facility_info.split(\" \"))) or \"bulk line\" in facility_info\n",
    "    flowstation_seen = \"flowstation\" in facility_info or \"flow station\" in facility_info\n",
    " \n",
    "    if otherline_seen:\n",
    "        facility_type_name[i] = \"other line\"\n",
    "        type_found = True\n",
    "    \n",
    "    if pipeline_seen and not well_seen:\n",
    "        facility_type_name[i] = \"pipeline\"\n",
    "        type_found = True\n",
    "       \n",
    "    if flowline_seen and \"well\" in facility_info:\n",
    "        facility_type_name[i] = \"flowline, well\"\n",
    "        type_found = True\n",
    "        \n",
    "    if flowline_seen and not well_seen:\n",
    "        facility_type_name[i] = \"flowline\"\n",
    "        type_found = True\n",
    "        \n",
    "    if well_seen and not wellhead_seen and not flowline_seen and not pipeline_seen:\n",
    "        facility_type_name[i] = \"well\"\n",
    "        type_found = True\n",
    "        \n",
    "    if wellhead_seen:\n",
    "        facility_type_name[i] = \"wellhead\"\n",
    "        type_found = True\n",
    "        \n",
    "    if manifold_seen:\n",
    "        facility_type_name[i] = \"manifold\"\n",
    "        type_found = True\n",
    "\n",
    "    if trunkline_seen:\n",
    "        facility_type_name[i] = \"trunkline\"\n",
    "        type_found = True\n",
    "\n",
    "    if deliveryline_seen:\n",
    "        facility_type_name[i] = \"deliveryline\"\n",
    "        type_found = True\n",
    "        \n",
    "    if bulkline_seen:\n",
    "        facility_type_name[i] = \"bulkline\"\n",
    "        type_found = True\n",
    "    \n",
    "    if flowstation_seen:\n",
    "        facility_type_name[i] = \"flowstation\"\n",
    "        type_found = True\n",
    "    \n",
    "    if not type_found:\n",
    "        facility_type_name[i] = \"other\"\n",
    "        \n",
    "    # c. extract location\n",
    "    try:\n",
    "        facility_location[i] = str(re.search(location_regex, facility_info).group(1)).strip(punctuation)\n",
    "    except:\n",
    "        missing_loc_count +=1\n",
    "\n",
    "df[\"inches\"] = pd.Series(inches)\n",
    "df[\"facility_type_name\"] = pd.Series(facility_type_name)\n",
    "df[\"facility_location\"] = pd.Series(facility_location)"
   ]
  },
  {
   "cell_type": "code",
   "execution_count": 203,
   "metadata": {
    "collapsed": false
   },
   "outputs": [
    {
     "data": {
      "text/plain": [
       "pipeline          932\n",
       "flowline, well    180\n",
       "flowline          149\n",
       "well               72\n",
       "other              46\n",
       "deliveryline       45\n",
       "trunkline          45\n",
       "wellhead           43\n",
       "manifold           31\n",
       "flowstation        21\n",
       "other line         15\n",
       "bulkline            7\n",
       "Name: facility_type_name, dtype: int64"
      ]
     },
     "execution_count": 203,
     "metadata": {},
     "output_type": "execute_result"
    }
   ],
   "source": [
    "df.facility_type_name.value_counts()"
   ]
  },
  {
   "cell_type": "code",
   "execution_count": 204,
   "metadata": {
    "collapsed": false
   },
   "outputs": [
    {
     "data": {
      "text/plain": [
       "763"
      ]
     },
     "execution_count": 204,
     "metadata": {},
     "output_type": "execute_result"
    }
   ],
   "source": [
    "df.facility_location.isnull().sum()"
   ]
  },
  {
   "cell_type": "code",
   "execution_count": 209,
   "metadata": {
    "collapsed": false
   },
   "outputs": [
    {
     "data": {
      "text/html": [
       "<div>\n",
       "<table border=\"1\" class=\"dataframe\">\n",
       "  <thead>\n",
       "    <tr style=\"text-align: right;\">\n",
       "      <th></th>\n",
       "      <th>facility_location</th>\n",
       "      <th>lga_eni</th>\n",
       "    </tr>\n",
       "  </thead>\n",
       "  <tbody>\n",
       "    <tr>\n",
       "      <th>0</th>\n",
       "      <td>NaN</td>\n",
       "      <td>Abua/Odual</td>\n",
       "    </tr>\n",
       "    <tr>\n",
       "      <th>1</th>\n",
       "      <td>komkom</td>\n",
       "      <td>NaN</td>\n",
       "    </tr>\n",
       "    <tr>\n",
       "      <th>2</th>\n",
       "      <td>edagberi</td>\n",
       "      <td>NaN</td>\n",
       "    </tr>\n",
       "    <tr>\n",
       "      <th>3</th>\n",
       "      <td>okolo launch</td>\n",
       "      <td>NaN</td>\n",
       "    </tr>\n",
       "    <tr>\n",
       "      <th>4</th>\n",
       "      <td>oporoma</td>\n",
       "      <td>NaN</td>\n",
       "    </tr>\n",
       "  </tbody>\n",
       "</table>\n",
       "</div>"
      ],
      "text/plain": [
       "  facility_location     lga_eni\n",
       "0               NaN  Abua/Odual\n",
       "1            komkom         NaN\n",
       "2          edagberi         NaN\n",
       "3      okolo launch         NaN\n",
       "4           oporoma         NaN"
      ]
     },
     "execution_count": 209,
     "metadata": {},
     "output_type": "execute_result"
    }
   ],
   "source": [
    "df[[\"facility_location\", \"lga_eni\"]].head()"
   ]
  },
  {
   "cell_type": "code",
   "execution_count": 205,
   "metadata": {
    "collapsed": false
   },
   "outputs": [],
   "source": [
    "df.to_csv(\"./data/EniShell_transformed.csv\")"
   ]
  },
  {
   "cell_type": "markdown",
   "metadata": {},
   "source": [
    "#### * check if when Shell location is given, Eni is missing and vice versa"
   ]
  },
  {
   "cell_type": "code",
   "execution_count": 224,
   "metadata": {
    "collapsed": false
   },
   "outputs": [
    {
     "data": {
      "text/plain": [
       "1    1520\n",
       "0      61\n",
       "2       5\n",
       "dtype: int64"
      ]
     },
     "execution_count": 224,
     "metadata": {},
     "output_type": "execute_result"
    }
   ],
   "source": [
    "# shell location -> facility_location\n",
    "# eni location -> lga_eni\n",
    "shell_loc = [0] * df.shape[0]\n",
    "eni_loc = [0] * df.shape[0]\n",
    "\n",
    "for i in range(df.shape[0]):\n",
    "    shell_cur_loc = df.facility_location.iloc[i]\n",
    "    eni_curr_loc = df.lga_eni.iloc[i]\n",
    "    if type(shell_cur_loc) != float:\n",
    "        shell_loc[i] = 1\n",
    "    if type(eni_curr_loc) != float:\n",
    "        eni_loc[i] = 1\n",
    "        \n",
    "shell_loc_series = pd.Series(shell_loc)\n",
    "eni_loc_series = pd.Series(eni_loc)\n",
    "loc_series = shell_loc_series.add(eni_loc_series)\n",
    "loc_series.value_counts()"
   ]
  },
  {
   "cell_type": "code",
   "execution_count": 227,
   "metadata": {
    "collapsed": false
   },
   "outputs": [],
   "source": [
    "df[\"location_joint\"] = pd.Series(loc_series)"
   ]
  },
  {
   "cell_type": "code",
   "execution_count": 239,
   "metadata": {
    "collapsed": false
   },
   "outputs": [
    {
     "data": {
      "text/html": [
       "<div>\n",
       "<table border=\"1\" class=\"dataframe\">\n",
       "  <thead>\n",
       "    <tr style=\"text-align: right;\">\n",
       "      <th></th>\n",
       "      <th>oil_spill_id</th>\n",
       "      <th>company</th>\n",
       "      <th>facility_location</th>\n",
       "      <th>lga_eni</th>\n",
       "    </tr>\n",
       "  </thead>\n",
       "  <tbody>\n",
       "    <tr>\n",
       "      <th>752</th>\n",
       "      <td>385</td>\n",
       "      <td>NAOC</td>\n",
       "      <td>the    mini manifold</td>\n",
       "      <td>Southern Ijaw</td>\n",
       "    </tr>\n",
       "    <tr>\n",
       "      <th>1156</th>\n",
       "      <td>771</td>\n",
       "      <td>NAOC</td>\n",
       "      <td>olugbobiri</td>\n",
       "      <td>Southern Ijaw</td>\n",
       "    </tr>\n",
       "    <tr>\n",
       "      <th>1363</th>\n",
       "      <td>703</td>\n",
       "      <td>NAOC</td>\n",
       "      <td>obama 3 deep slot</td>\n",
       "      <td>Southern Ijaw</td>\n",
       "    </tr>\n",
       "    <tr>\n",
       "      <th>1372</th>\n",
       "      <td>1494</td>\n",
       "      <td>NAOC</td>\n",
       "      <td>oshie flow station</td>\n",
       "      <td>Oshie</td>\n",
       "    </tr>\n",
       "    <tr>\n",
       "      <th>1373</th>\n",
       "      <td>1202</td>\n",
       "      <td>NAOC</td>\n",
       "      <td>obiafu 14 well location</td>\n",
       "      <td>Ogba/Ndoni/Egbema</td>\n",
       "    </tr>\n",
       "  </tbody>\n",
       "</table>\n",
       "</div>"
      ],
      "text/plain": [
       "      oil_spill_id company        facility_location            lga_eni\n",
       "752            385    NAOC     the    mini manifold      Southern Ijaw\n",
       "1156           771    NAOC               olugbobiri      Southern Ijaw\n",
       "1363           703    NAOC        obama 3 deep slot      Southern Ijaw\n",
       "1372          1494    NAOC       oshie flow station              Oshie\n",
       "1373          1202    NAOC  obiafu 14 well location  Ogba/Ndoni/Egbema"
      ]
     },
     "execution_count": 239,
     "metadata": {},
     "output_type": "execute_result"
    }
   ],
   "source": [
    "df[[\"oil_spill_id\", \"company\",\"facility_location\", \"lga_eni\"]][df.location_joint == 2]"
   ]
  },
  {
   "cell_type": "code",
   "execution_count": 241,
   "metadata": {
    "collapsed": false
   },
   "outputs": [
    {
     "data": {
      "text/html": [
       "<div>\n",
       "<table border=\"1\" class=\"dataframe\">\n",
       "  <thead>\n",
       "    <tr style=\"text-align: right;\">\n",
       "      <th></th>\n",
       "      <th>oil_spill_id</th>\n",
       "      <th>company</th>\n",
       "      <th>facility_location</th>\n",
       "      <th>lga_eni</th>\n",
       "    </tr>\n",
       "  </thead>\n",
       "  <tbody>\n",
       "    <tr>\n",
       "      <th>0</th>\n",
       "      <td>1272</td>\n",
       "      <td>NAOC</td>\n",
       "      <td>NaN</td>\n",
       "      <td>Abua/Odual</td>\n",
       "    </tr>\n",
       "    <tr>\n",
       "      <th>1</th>\n",
       "      <td>221</td>\n",
       "      <td>SPDC</td>\n",
       "      <td>komkom</td>\n",
       "      <td>NaN</td>\n",
       "    </tr>\n",
       "    <tr>\n",
       "      <th>2</th>\n",
       "      <td>640</td>\n",
       "      <td>SPDC</td>\n",
       "      <td>edagberi</td>\n",
       "      <td>NaN</td>\n",
       "    </tr>\n",
       "    <tr>\n",
       "      <th>3</th>\n",
       "      <td>1109</td>\n",
       "      <td>SPDC</td>\n",
       "      <td>okolo launch</td>\n",
       "      <td>NaN</td>\n",
       "    </tr>\n",
       "    <tr>\n",
       "      <th>4</th>\n",
       "      <td>486</td>\n",
       "      <td>SPDC</td>\n",
       "      <td>oporoma</td>\n",
       "      <td>NaN</td>\n",
       "    </tr>\n",
       "  </tbody>\n",
       "</table>\n",
       "</div>"
      ],
      "text/plain": [
       "   oil_spill_id company facility_location     lga_eni\n",
       "0          1272    NAOC               NaN  Abua/Odual\n",
       "1           221    SPDC            komkom         NaN\n",
       "2           640    SPDC          edagberi         NaN\n",
       "3          1109    SPDC      okolo launch         NaN\n",
       "4           486    SPDC           oporoma         NaN"
      ]
     },
     "execution_count": 241,
     "metadata": {},
     "output_type": "execute_result"
    }
   ],
   "source": [
    "df[[\"oil_spill_id\", \"company\",\"facility_location\", \"lga_eni\"]][df.location_joint == 1].head()"
   ]
  },
  {
   "cell_type": "markdown",
   "metadata": {},
   "source": [
    "#### * clean the facility_locations for ENI"
   ]
  },
  {
   "cell_type": "code",
   "execution_count": 242,
   "metadata": {
    "collapsed": false
   },
   "outputs": [
    {
     "name": "stderr",
     "output_type": "stream",
     "text": [
      "/home/katia/.virtualenvs/securaxis/lib/python3.5/site-packages/ipykernel/__main__.py:1: SettingWithCopyWarning: \n",
      "A value is trying to be set on a copy of a slice from a DataFrame\n",
      "\n",
      "See the caveats in the documentation: http://pandas.pydata.org/pandas-docs/stable/indexing.html#indexing-view-versus-copy\n",
      "  if __name__ == '__main__':\n"
     ]
    }
   ],
   "source": [
    "df.facility_location[df.location_joint == 2] = np.nan"
   ]
  },
  {
   "cell_type": "code",
   "execution_count": 243,
   "metadata": {
    "collapsed": false
   },
   "outputs": [
    {
     "data": {
      "text/html": [
       "<div>\n",
       "<table border=\"1\" class=\"dataframe\">\n",
       "  <thead>\n",
       "    <tr style=\"text-align: right;\">\n",
       "      <th></th>\n",
       "      <th>oil_spill_id</th>\n",
       "      <th>company</th>\n",
       "      <th>facility_location</th>\n",
       "      <th>lga_eni</th>\n",
       "    </tr>\n",
       "  </thead>\n",
       "  <tbody>\n",
       "    <tr>\n",
       "      <th>752</th>\n",
       "      <td>385</td>\n",
       "      <td>NAOC</td>\n",
       "      <td>NaN</td>\n",
       "      <td>Southern Ijaw</td>\n",
       "    </tr>\n",
       "    <tr>\n",
       "      <th>1156</th>\n",
       "      <td>771</td>\n",
       "      <td>NAOC</td>\n",
       "      <td>NaN</td>\n",
       "      <td>Southern Ijaw</td>\n",
       "    </tr>\n",
       "    <tr>\n",
       "      <th>1363</th>\n",
       "      <td>703</td>\n",
       "      <td>NAOC</td>\n",
       "      <td>NaN</td>\n",
       "      <td>Southern Ijaw</td>\n",
       "    </tr>\n",
       "    <tr>\n",
       "      <th>1372</th>\n",
       "      <td>1494</td>\n",
       "      <td>NAOC</td>\n",
       "      <td>NaN</td>\n",
       "      <td>Oshie</td>\n",
       "    </tr>\n",
       "    <tr>\n",
       "      <th>1373</th>\n",
       "      <td>1202</td>\n",
       "      <td>NAOC</td>\n",
       "      <td>NaN</td>\n",
       "      <td>Ogba/Ndoni/Egbema</td>\n",
       "    </tr>\n",
       "  </tbody>\n",
       "</table>\n",
       "</div>"
      ],
      "text/plain": [
       "      oil_spill_id company facility_location            lga_eni\n",
       "752            385    NAOC               NaN      Southern Ijaw\n",
       "1156           771    NAOC               NaN      Southern Ijaw\n",
       "1363           703    NAOC               NaN      Southern Ijaw\n",
       "1372          1494    NAOC               NaN              Oshie\n",
       "1373          1202    NAOC               NaN  Ogba/Ndoni/Egbema"
      ]
     },
     "execution_count": 243,
     "metadata": {},
     "output_type": "execute_result"
    }
   ],
   "source": [
    "df[[\"oil_spill_id\", \"company\",\"facility_location\", \"lga_eni\"]][df.location_joint == 2]"
   ]
  },
  {
   "cell_type": "code",
   "execution_count": 245,
   "metadata": {
    "collapsed": false
   },
   "outputs": [],
   "source": [
    "del df[\"location_joint\"]"
   ]
  },
  {
   "cell_type": "markdown",
   "metadata": {},
   "source": [
    "#### * extract the pipeline name"
   ]
  },
  {
   "cell_type": "code",
   "execution_count": null,
   "metadata": {
    "collapsed": true
   },
   "outputs": [],
   "source": []
  }
 ],
 "metadata": {
  "kernelspec": {
   "display_name": "Python 3",
   "language": "python",
   "name": "python3"
  },
  "language_info": {
   "codemirror_mode": {
    "name": "ipython",
    "version": 3
   },
   "file_extension": ".py",
   "mimetype": "text/x-python",
   "name": "python",
   "nbconvert_exporter": "python",
   "pygments_lexer": "ipython3",
   "version": "3.5.2"
  }
 },
 "nbformat": 4,
 "nbformat_minor": 2
}
